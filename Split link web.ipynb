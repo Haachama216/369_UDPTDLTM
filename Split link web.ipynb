{
 "cells": [
  {
   "cell_type": "code",
   "execution_count": 1,
   "id": "b2077eaa",
   "metadata": {},
   "outputs": [],
   "source": [
    "#Mục đích: Chia link web ra làm nhiều phần để có thể thi thập vào thời gian nhất định"
   ]
  },
  {
   "cell_type": "code",
   "execution_count": null,
   "id": "91614a10",
   "metadata": {},
   "outputs": [],
   "source": [
    "def take_url_from_file(file_name):\n",
    "    list_url = []\n",
    "    with open(file_name, \"r\", encoding='utf-8') as f:\n",
    "        for line in f:\n",
    "            url = line.strip()\n",
    "            list_url.append(url)\n",
    "    return list_url"
   ]
  },
  {
   "cell_type": "code",
   "execution_count": 2,
   "id": "ba19244a",
   "metadata": {},
   "outputs": [
    {
     "data": {
      "text/plain": [
       "7528"
      ]
     },
     "execution_count": 2,
     "metadata": {},
     "output_type": "execute_result"
    }
   ],
   "source": [
    "list_url_1 = take_url_from_file('./linkWeb/list_url_shop_d.txt')\n",
    "list_url_2 = take_url_from_file('./linkWeb/list_url_shop_n.txt')\n",
    "list_url_shop = list(dict.fromkeys(list_url_1 + list_url_2))\n",
    "len(list_url_shop)"
   ]
  },
  {
   "cell_type": "code",
   "execution_count": 3,
   "id": "87d17781",
   "metadata": {},
   "outputs": [],
   "source": [
    "def split_list(a_list):\n",
    "    half_quarter = int(len(a_list)/8)\n",
    "    return a_list[:half_quarter], a_list[half_quarter:2 * half_quarter], a_list[2 * half_quarter:3 * half_quarter], a_list[3 * half_quarter: 4 * half_quarter], a_list[4 * half_quarter:5 * half_quarter], a_list[5*half_quarter:6 * half_quarter], a_list[6 * half_quarter:7 * half_quarter], a_list[7 * half_quarter:]\n",
    "\n",
    "list_url_shop_1, list_url_shop_2, list_url_shop_3, list_url_shop_4, list_url_shop_5, list_url_shop_6, list_url_shop_7, list_url_shop_8 = split_list(list_url_shop)"
   ]
  },
  {
   "cell_type": "code",
   "execution_count": 4,
   "id": "f4a36709",
   "metadata": {},
   "outputs": [
    {
     "data": {
      "text/plain": [
       "941"
      ]
     },
     "execution_count": 4,
     "metadata": {},
     "output_type": "execute_result"
    }
   ],
   "source": [
    "len(list_url_shop_4)"
   ]
  },
  {
   "cell_type": "code",
   "execution_count": 5,
   "id": "4dd103f3",
   "metadata": {},
   "outputs": [],
   "source": [
    "def write_list_url_to_file(file_name, list_url_shop):\n",
    "    with open(file_name, \"w\", encoding='utf-8') as f:\n",
    "        for url in list_url_shop:\n",
    "            f.write(f'{url}\\n')"
   ]
  },
  {
   "cell_type": "code",
   "execution_count": 6,
   "id": "8b7d012d",
   "metadata": {},
   "outputs": [],
   "source": [
    "write_list_url_to_file('./linkWeb/list_url_shop_1.txt', list_url_shop_1)\n",
    "write_list_url_to_file('./linkWeb/list_url_shop_2.txt', list_url_shop_2)\n",
    "write_list_url_to_file('./linkWeb/list_url_shop_3.txt', list_url_shop_3)\n",
    "write_list_url_to_file('./linkWeb/list_url_shop_4.txt', list_url_shop_4)\n",
    "write_list_url_to_file('./linkWeb/list_url_shop_5.txt', list_url_shop_5)\n",
    "write_list_url_to_file('./linkWeb/list_url_shop_6.txt', list_url_shop_6)\n",
    "write_list_url_to_file('./linkWeb/list_url_shop_7.txt', list_url_shop_7)\n",
    "write_list_url_to_file('./linkWeb/list_url_shop_8.txt', list_url_shop_8)"
   ]
  }
 ],
 "metadata": {
  "kernelspec": {
   "display_name": "Python 3 (ipykernel)",
   "language": "python",
   "name": "python3"
  },
  "language_info": {
   "codemirror_mode": {
    "name": "ipython",
    "version": 3
   },
   "file_extension": ".py",
   "mimetype": "text/x-python",
   "name": "python",
   "nbconvert_exporter": "python",
   "pygments_lexer": "ipython3",
   "version": "3.10.4"
  }
 },
 "nbformat": 4,
 "nbformat_minor": 5
}
