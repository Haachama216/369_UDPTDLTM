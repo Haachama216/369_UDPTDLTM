{
 "cells": [
  {
   "cell_type": "code",
   "execution_count": 1,
   "id": "d870bb9b",
   "metadata": {},
   "outputs": [],
   "source": [
    "from bs4 import BeautifulSoup\n",
    "import time\n",
    "import pandas as pd\n",
    "from selenium import webdriver\n",
    "from selenium.webdriver.common.action_chains import ActionChains\n",
    "from selenium.webdriver.chrome.options import Options\n",
    "from webdriver_manager.chrome import ChromeDriverManager\n",
    "import re\n",
    "import os"
   ]
  },
  {
   "cell_type": "code",
   "execution_count": 2,
   "id": "84a54f7e",
   "metadata": {},
   "outputs": [
    {
     "name": "stderr",
     "output_type": "stream",
     "text": [
      "C:\\Users\\Long\\AppData\\Local\\Temp\\ipykernel_24676\\3754241684.py:4: DeprecationWarning: executable_path has been deprecated, please pass in a Service object\n",
      "  driver = webdriver.Chrome(ChromeDriverManager().install(), chrome_options=options)\n",
      "C:\\Users\\Long\\AppData\\Local\\Temp\\ipykernel_24676\\3754241684.py:4: DeprecationWarning: use options instead of chrome_options\n",
      "  driver = webdriver.Chrome(ChromeDriverManager().install(), chrome_options=options)\n"
     ]
    }
   ],
   "source": [
    "options = Options()\n",
    "prefs = {\"profile.default_content_setting_values.geolocation\" :2}\n",
    "options.add_experimental_option(\"prefs\",prefs)\n",
    "driver = webdriver.Chrome(ChromeDriverManager().install(), chrome_options=options)"
   ]
  },
  {
   "cell_type": "code",
   "execution_count": 3,
   "id": "86d5458d",
   "metadata": {},
   "outputs": [],
   "source": [
    "#Khởi tạo file\n",
    "def crate_file_store(file_name):\n",
    "    kind_restaurant = 'Loại cửa hàng'\n",
    "    name_restaurant = 'Tên cửa hàng'\n",
    "    address_restaurant = 'Địa chỉ cửa hàng'\n",
    "    stars = 'Số sao trên ShopeeFood'\n",
    "    number_rating = 'Số lượt đánh giá trên ShopeeFood'\n",
    "    open_time = 'Thời gian mở cửa'\n",
    "    min_cost_restaurant = 'Giá thấp nhất'\n",
    "    max_cost_restaurant = 'Giá cao nhất'\n",
    "    utility = 'Phí dịch vụ'\n",
    "    foody_rating = 'Số sao trên Foody'\n",
    "    review_count = 'Số lượt đánh giá trên Foody'\n",
    "    with open(file_name, \"w\", encoding='utf-8') as f:\n",
    "        f.write(f'{kind_restaurant}\\t{name_restaurant}\\t{address_restaurant}\\t{stars}\\t{number_rating}\\t{open_time}\\t{min_cost_restaurant}\\t{max_cost_restaurant}\\t{utility}\\t{foody_rating}\\t{review_count}\\n')"
   ]
  },
  {
   "cell_type": "code",
   "execution_count": 4,
   "id": "e089e921",
   "metadata": {},
   "outputs": [],
   "source": [
    "def take_url_from_file(file_name):\n",
    "    list_url = []\n",
    "    with open(file_name, \"r\", encoding='utf-8') as f:\n",
    "        for line in f:\n",
    "            url = line.strip()\n",
    "            list_url.append(url)\n",
    "    return list_url"
   ]
  },
  {
   "cell_type": "code",
   "execution_count": 5,
   "id": "8285316a",
   "metadata": {},
   "outputs": [],
   "source": [
    "def take_kind_restaurant():\n",
    "    element_kind_restaurant = driver.find_element(\"class name\",\"kind-restaurant\")\n",
    "    kind_restaurant = element_kind_restaurant.get_attribute('innerHTML')\n",
    "    kind_restaurant = kind_restaurant.split('<span>')[1].strip() #Cách lấy loại cửa hàng sau khi thực nghiệm\n",
    "    kind_restaurant = kind_restaurant.split('</span>')[0].strip()\n",
    "    return kind_restaurant"
   ]
  },
  {
   "cell_type": "code",
   "execution_count": 6,
   "id": "2a78be80",
   "metadata": {},
   "outputs": [],
   "source": [
    "def take_name_restaurant():\n",
    "    element_name_restaurant = driver.find_element(\"class name\",\"name-restaurant\")\n",
    "    name_restaurant = element_name_restaurant.get_attribute('innerHTML')\n",
    "    return name_restaurant"
   ]
  },
  {
   "cell_type": "code",
   "execution_count": 7,
   "id": "d6ac8de8",
   "metadata": {},
   "outputs": [],
   "source": [
    "def take_address_restaurant():\n",
    "    element_address_restaurant = driver.find_element(\"class name\",\"address-restaurant\")\n",
    "    address_restaurant = element_address_restaurant.get_attribute('innerHTML')\n",
    "    return address_restaurant"
   ]
  },
  {
   "cell_type": "code",
   "execution_count": 8,
   "id": "2dcb1af2",
   "metadata": {},
   "outputs": [],
   "source": [
    "def take_stars():\n",
    "    element_stars = driver.find_element(\"class name\",\"stars\")\n",
    "    stars = element_stars.get_attribute('innerHTML')\n",
    "    starsfull = stars.count('full')\n",
    "    starshalf = stars.count('half')/2 #Vì trong phần nửa sao sẽ xuất hiện từ half 2 lần\n",
    "    stars = starsfull + starshalf/2\n",
    "    return stars"
   ]
  },
  {
   "cell_type": "code",
   "execution_count": 9,
   "id": "c6dc566f",
   "metadata": {},
   "outputs": [],
   "source": [
    "def take_number_rating():\n",
    "    element_number_rating = driver.find_element(\"class name\",\"number-rating\")\n",
    "    number_rating = element_number_rating.get_attribute('innerHTML')\n",
    "    return number_rating"
   ]
  },
  {
   "cell_type": "code",
   "execution_count": 10,
   "id": "bd6a9f22",
   "metadata": {},
   "outputs": [],
   "source": [
    "def take_open_time():\n",
    "    element_open_time = driver.find_element(\"class name\",\"time\")\n",
    "    open_time = element_open_time.get_attribute('innerHTML')\n",
    "    open_time = open_time.split('</i>')[1]\n",
    "    return open_time"
   ]
  },
  {
   "cell_type": "code",
   "execution_count": 11,
   "id": "62684c33",
   "metadata": {},
   "outputs": [],
   "source": [
    "def take_cost_restaurant():\n",
    "    min_cost = 0\n",
    "    max_cost = 0\n",
    "    element_cost_restaurant = driver.find_element(\"class name\",\"cost-restaurant\")\n",
    "    cost_restaurant = element_cost_restaurant.get_attribute('innerHTML')\n",
    "    cost_restaurant = cost_restaurant.split('</i>')[1]\n",
    "    min_cost = cost_restaurant.split('-')[0].strip()\n",
    "    max_cost = cost_restaurant.split('-')[1].strip()\n",
    "    return min_cost, max_cost"
   ]
  },
  {
   "cell_type": "code",
   "execution_count": 12,
   "id": "6347d678",
   "metadata": {},
   "outputs": [],
   "source": [
    "def take_utility(): #Phí phục vụ\n",
    "    element_utility = driver.find_element(\"class name\",\"utility-content\")\n",
    "    utility = element_utility.get_attribute('innerHTML')\n",
    "    utility = utility.split('>')[1]\n",
    "    utility = utility.split('Phí phục vụ')[0].strip()\n",
    "    return utility"
   ]
  },
  {
   "cell_type": "code",
   "execution_count": 13,
   "id": "ec27a47c",
   "metadata": {},
   "outputs": [],
   "source": [
    "def create_menu(name_restaurant):\n",
    "    #Tìm category\n",
    "    element = driver.find_element(\"class name\",\"list-category\")\n",
    "    cate = element.get_attribute('innerHTML')\n",
    "    parse = BeautifulSoup(cate, 'html.parser')\n",
    "    category = parse.find_all('div',{'class':'item'})\n",
    "    for i in range(len(category)):\n",
    "        temp = str(category[i]).split('id=')[1]\n",
    "        temp = temp.split('title')[0].strip()\n",
    "        temp = re.findall(r'\"([^\"]*)\"',temp)[0]\n",
    "        category[i] = temp\n",
    "    \n",
    "    #Lấy giá thức ăn và menu\n",
    "    food_full = []\n",
    "    price_full = []\n",
    "    category.pop(0)\n",
    "    element_menu = driver.find_element(\"class name\",\"menu-restaurant-list\")\n",
    "    menu = element_menu.get_attribute('innerHTML')\n",
    "    parse_text = BeautifulSoup(menu, 'html.parser')\n",
    "    food = parse_text.find_all('h2',{'class':'item-restaurant-name'})\n",
    "    for i in range(len(food)):\n",
    "        food_full.append(food[i].text)\n",
    "    price = food = parse_text.find_all('div',{'class':'current-price'})\n",
    "    for i in range(len(price)):\n",
    "        price_full.append(food[i].text.strip('đ'))\n",
    "    try:\n",
    "        for i in category:\n",
    "            element = driver.find_element(\"id\",i)\n",
    "            action.move_to_element(element).click().perform()\n",
    "            time.sleep(1)\n",
    "            element_menu = driver.find_element(\"class name\",\"menu-restaurant-list\")\n",
    "            menu = element_menu.get_attribute('innerHTML')\n",
    "            parse_text = BeautifulSoup(menu, 'html.parser')\n",
    "            food = parse_text.find_all('h2',{'class':'item-restaurant-name'})\n",
    "            for i in range(len(food)):\n",
    "                food_full.append(food[i].text)\n",
    "            price = food = parse_text.find_all('div',{'class':'current-price'})\n",
    "            for i in range(len(price)):\n",
    "                price_full.append(food[i].text.strip('đ'))\n",
    "    except:\n",
    "        continue\n",
    "            \n",
    "    #Lược bỏ những thông tin bị trùng\n",
    "    df = pd.DataFrame({\"Food\":food_full, \"Price\": price_full})\n",
    "    df = df.drop_duplicates(subset = 'Food').reset_index(drop = True)\n",
    "    \n",
    "    #Tạo ra file menu của cửa hàng\n",
    "    df.to_csv(f'{name_restaurant}')"
   ]
  },
  {
   "cell_type": "code",
   "execution_count": 14,
   "id": "cecba43d",
   "metadata": {},
   "outputs": [],
   "source": [
    "def view_more_rating():\n",
    "    #Web liên kết đến foody để lấy thêm ratings\n",
    "    element_view_more_rating = driver.find_element(\"class name\",\"view-more-rating\")\n",
    "    view_more_rating = element_view_more_rating.get_attribute('innerHTML')\n",
    "    #Bắt đầu tách chuỗi\n",
    "    view_more_rating = view_more_rating.split('href=')[1]\n",
    "    view_more_rating = view_more_rating.split('rel=')[0]\n",
    "    view_more_rating = view_more_rating.strip()\n",
    "    view_more_rating = re.findall(r'\"([^\"]*)\"',view_more_rating)[0]\n",
    "    return view_more_rating"
   ]
  },
  {
   "cell_type": "code",
   "execution_count": 15,
   "id": "19a60b72",
   "metadata": {},
   "outputs": [],
   "source": [
    "def take_foody_rating(): #Chuyển driver sang link foody\n",
    "    element_foody_rating = driver.find_element(\"class name\",\"microsite-point-avg\")\n",
    "    foody_rating = element_foody_rating.get_attribute('innerHTML')\n",
    "    foody_rating = foody_rating.strip()\n",
    "    return foody_rating"
   ]
  },
  {
   "cell_type": "code",
   "execution_count": 16,
   "id": "f3b823e9",
   "metadata": {},
   "outputs": [],
   "source": [
    "def take_num_foody_rating(): #Chuyển driver sang link foody\n",
    "    element_num_foody_rating = driver.find_element(\"class name\",\"microsite-review-count\")\n",
    "    num_foody_rating = element_num_foody_rating.get_attribute('innerHTML')\n",
    "    num_foody_rating = num_foody_rating.strip()\n",
    "    return num_foody_rating"
   ]
  },
  {
   "cell_type": "code",
   "execution_count": 17,
   "id": "48afe0a6",
   "metadata": {},
   "outputs": [],
   "source": [
    "def write_store_to_file(file_name, kind_restaurant, name_restaurant, address_restaurant, stars, number_rating, open_time, cost_restaurant, utility, foody_rating, review_count):\n",
    "    with open(file_name, \"a\", encoding='utf-8') as f:\n",
    "        f.write(f'{kind_restaurant}\\t{name_restaurant}\\t{address_restaurant}\\t{stars}\\t{number_rating}\\t{open_time}\\t{cost_restaurant}\\t{utility}\\t{foody_rating}\\t{review_count}\\n')"
   ]
  },
  {
   "cell_type": "code",
   "execution_count": 18,
   "id": "0237e058",
   "metadata": {},
   "outputs": [],
   "source": [
    "#Kiểm tra cửa hàng đóng cửa\n",
    "def check_open_store():\n",
    "    element = driver.find_element(\"class name\",'status-restaurant')\n",
    "    status = element.get_attribute('innerHTML')\n",
    "    return status.find(\"stt offline\") == -1 and status.find(\"stt busy\") == -1"
   ]
  },
  {
   "cell_type": "code",
   "execution_count": 19,
   "id": "4da07e18",
   "metadata": {},
   "outputs": [],
   "source": [
    "if not os.path.exists('./Data/shopeefood_store_1.txt'):\n",
    "    crate_file_store('./Data/shopeefood_store_1.txt')\n",
    "\n",
    "list_url = take_url_from_file('./linkWeb/list_url_shop_1.txt')\n",
    "for url in list_url:\n",
    "    try:\n",
    "        driver.get(url)\n",
    "        action = ActionChains(driver)\n",
    "        time.sleep(2)\n",
    "    \n",
    "        if check_open_store():\n",
    "            kind_restaurant = take_kind_restaurant()\n",
    "            name_restaurant = take_name_restaurant()\n",
    "            address_restaurant = take_address_restaurant()\n",
    "\n",
    "            try:\n",
    "                stars = take_stars()\n",
    "            except:\n",
    "                stars = 0\n",
    "            try:\n",
    "                number_rating = take_number_rating()\n",
    "            except:\n",
    "                number_rating = 0\n",
    "\n",
    "            open_time = take_open_time()\n",
    "            min_cost_restaurant, max_cost_restaurant = take_cost_restaurant()\n",
    "            utility = take_utility()\n",
    "\n",
    "            #Tạo menu vào 1 folder\n",
    "            outdir = './menuStore'\n",
    "            if not os.path.exists(outdir):\n",
    "                os.mkdir(outdir)\n",
    "            fullname = os.path.join(outdir, name_restaurant)\n",
    "            create_menu(fullname)\n",
    "\n",
    "            #Lấy thông tin từ foody\n",
    "            try:\n",
    "                driver.get(view_more_rating())\n",
    "                time.sleep(1)\n",
    "                foody_rating = take_foody_rating()\n",
    "                review_count = take_num_foody_rating()\n",
    "            except:\n",
    "                foody_rating = 0\n",
    "                review_count = 0\n",
    "\n",
    "            with open('./Data/shopeefood_store_1.txt', \"a\", encoding='utf-8') as f:\n",
    "                f.write(f'{kind_restaurant}\\t{name_restaurant}\\t{address_restaurant}\\t{stars}\\t{number_rating}\\t{open_time}\\t{min_cost_restaurant}\\t{max_cost_restaurant}\\t{utility}\\t{foody_rating}\\t{review_count}\\n')\n",
    "    except:\n",
    "        time.sleep(30) #Tránh việc shoppee phát hiện ra việc đưa request quá nhiều lần liên tục"
   ]
  }
 ],
 "metadata": {
  "kernelspec": {
   "display_name": "Python 3 (ipykernel)",
   "language": "python",
   "name": "python3"
  },
  "language_info": {
   "codemirror_mode": {
    "name": "ipython",
    "version": 3
   },
   "file_extension": ".py",
   "mimetype": "text/x-python",
   "name": "python",
   "nbconvert_exporter": "python",
   "pygments_lexer": "ipython3",
   "version": "3.8.8"
  }
 },
 "nbformat": 4,
 "nbformat_minor": 5
}
