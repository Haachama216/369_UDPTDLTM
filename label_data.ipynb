{
 "cells": [
  {
   "cell_type": "code",
   "execution_count": 1,
   "id": "cae349f4",
   "metadata": {},
   "outputs": [],
   "source": [
    "import pandas as pd"
   ]
  },
  {
   "cell_type": "code",
   "execution_count": 2,
   "id": "d0ee692b",
   "metadata": {},
   "outputs": [],
   "source": [
    "df = pd.read_csv('raw_data.csv', sep='\\t')"
   ]
  },
  {
   "cell_type": "code",
   "execution_count": 3,
   "id": "176c2bc7",
   "metadata": {},
   "outputs": [],
   "source": [
    "df['Thành công'] = False"
   ]
  },
  {
   "cell_type": "code",
   "execution_count": 4,
   "id": "18301825",
   "metadata": {
    "scrolled": true
   },
   "outputs": [
    {
     "name": "stdout",
     "output_type": "stream",
     "text": [
      "<class 'pandas.core.frame.DataFrame'>\n",
      "RangeIndex: 14024 entries, 0 to 14023\n",
      "Data columns (total 12 columns):\n",
      " #   Column                            Non-Null Count  Dtype  \n",
      "---  ------                            --------------  -----  \n",
      " 0   Loại cửa hàng                     14024 non-null  object \n",
      " 1   Tên cửa hàng                      14024 non-null  object \n",
      " 2   Địa chỉ cửa hàng                  14024 non-null  object \n",
      " 3   Số sao trên ShopeeFood            14024 non-null  float64\n",
      " 4   Số lượt đánh giá trên ShopeeFood  14024 non-null  object \n",
      " 5   Thời gian mở cửa                  14024 non-null  object \n",
      " 6   Giá thấp nhất                     14024 non-null  int64  \n",
      " 7   Giá cao nhất                      14024 non-null  int64  \n",
      " 8   Phí dịch vụ                       14024 non-null  object \n",
      " 9   Số sao trên Foody                 14024 non-null  float64\n",
      " 10  Số lượt đánh giá trên Foody       14024 non-null  int64  \n",
      " 11  Thành công                        14024 non-null  bool   \n",
      "dtypes: bool(1), float64(2), int64(3), object(6)\n",
      "memory usage: 1.2+ MB\n"
     ]
    }
   ],
   "source": [
    "df.info()"
   ]
  },
  {
   "cell_type": "code",
   "execution_count": 5,
   "id": "743b0a4f",
   "metadata": {},
   "outputs": [
    {
     "data": {
      "text/plain": [
       "['Loại cửa hàng',\n",
       " 'Tên cửa hàng',\n",
       " 'Địa chỉ cửa hàng',\n",
       " 'Số sao trên ShopeeFood',\n",
       " 'Số lượt đánh giá trên ShopeeFood',\n",
       " 'Thời gian mở cửa',\n",
       " 'Giá thấp nhất',\n",
       " 'Giá cao nhất',\n",
       " 'Phí dịch vụ',\n",
       " 'Số sao trên Foody',\n",
       " 'Số lượt đánh giá trên Foody',\n",
       " 'Thành công']"
      ]
     },
     "execution_count": 5,
     "metadata": {},
     "output_type": "execute_result"
    }
   ],
   "source": [
    "list(df)"
   ]
  },
  {
   "cell_type": "code",
   "execution_count": 6,
   "id": "d6391b75",
   "metadata": {
    "scrolled": false
   },
   "outputs": [],
   "source": [
    "df.loc[\n",
    "    (df['Số sao trên ShopeeFood'] >= 4.5) & \n",
    "    (df['Số lượt đánh giá trên ShopeeFood'] == '999+') &\n",
    "    (df['Số sao trên Foody'] > 7.0) &\n",
    "    (df['Số lượt đánh giá trên Foody'] > 10),\n",
    "    'Thành công'\n",
    "] = True"
   ]
  },
  {
   "cell_type": "code",
   "execution_count": 7,
   "id": "3dbfcfdf",
   "metadata": {},
   "outputs": [
    {
     "data": {
      "text/plain": [
       "<AxesSubplot: >"
      ]
     },
     "execution_count": 7,
     "metadata": {},
     "output_type": "execute_result"
    },
    {
     "data": {
      "image/png": "[encoded data removed]",
      "text/plain": [
       "<Figure size 640x480 with 1 Axes>"
      ]
     },
     "metadata": {},
     "output_type": "display_data"
    }
   ],
   "source": [
    "df['Thành công'].value_counts().plot.bar()"
   ]
  },
  {
   "cell_type": "code",
   "execution_count": 8,
   "id": "35c84106",
   "metadata": {},
   "outputs": [],
   "source": [
    "df.to_csv('data-labeled.csv', sep='\\t', index=False)"
   ]
  }
 ],
 "metadata": {
  "kernelspec": {
   "display_name": "Python [conda env:root] *",
   "language": "python",
   "name": "conda-root-py"
  },
  "language_info": {
   "codemirror_mode": {
    "name": "ipython",
    "version": 3
   },
   "file_extension": ".py",
   "mimetype": "text/x-python",
   "name": "python",
   "nbconvert_exporter": "python",
   "pygments_lexer": "ipython3",
   "version": "3.10.6"
  }
 },
 "nbformat": 4,
 "nbformat_minor": 5
}
