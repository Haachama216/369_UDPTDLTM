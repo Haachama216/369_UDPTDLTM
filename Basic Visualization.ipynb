{
 "cells": [
  {
   "cell_type": "code",
   "execution_count": 1,
   "id": "27d04ddf",
   "metadata": {},
   "outputs": [],
   "source": [
    "import pandas as pd\n",
    "%matplotlib inline\n",
    "import matplotlib.pyplot as plt\n",
    "import numpy as np"
   ]
  },
  {
   "cell_type": "code",
   "execution_count": 2,
   "id": "3f3eec57",
   "metadata": {},
   "outputs": [],
   "source": [
    "df_1 = pd.read_csv('./Data/shopeefood_store_1.txt', sep=\"\\t\")\n",
    "df_1_n = pd.read_csv('./Data/shopeefood_store_1_n.txt', sep=\"\\t\")\n",
    "df_2 = pd.read_csv('./Data/shopeefood_store_2.txt', sep=\"\\t\")\n",
    "df_3 = pd.read_csv('./Data/shopeefood_store_3.txt', sep=\"\\t\")\n",
    "df_4 = pd.read_csv('./Data/shopeefood_store_4.txt', sep=\"\\t\")\n",
    "df_4_d = pd.read_csv('./Data/shopeefood_store_4_d.txt', sep=\"\\t\")\n",
    "df_5 = pd.read_csv('./Data/shopeefood_store_5.txt', sep=\"\\t\")\n",
    "df_6_n = pd.read_csv('./Data/shopeefood_store_6_n.txt', sep=\"\\t\")\n",
    "df_7_n = pd.read_csv('./Data/shopeefood_store_7_n.txt', sep=\"\\t\")\n",
    "df_8_n = pd.read_csv('./Data/shopeefood_store_8_n.txt', sep=\"\\t\")\n",
    "df_8_d = pd.read_csv('./Data/shopeefood_store_8_d.txt', sep=\"\\t\")\n",
    "df_9_n = pd.read_csv('./Data/shopeefood_store_9_n.txt', sep=\"\\t\")\n",
    "df_10_d = pd.read_csv('./Data/shopeefood_store_10_d.txt', sep=\"\\t\")\n",
    "df_11_d = pd.read_csv('./Data/shopeefood_store_11_d.txt', sep=\"\\t\")\n",
    "df_12_d = pd.read_csv('./Data/shopeefood_store_12_d.txt', sep=\"\\t\")\n",
    "df_12_n = pd.read_csv('./Data/shopeefood_store_12_n.txt', sep=\"\\t\")\n",
    "df_13_d = pd.read_csv('./Data/shopeefood_store_13_d.txt', sep=\"\\t\")\n",
    "df_13_n = pd.read_csv('./Data/shopeefood_store_13_n.txt', sep=\"\\t\")\n",
    "df_14_d = pd.read_csv('./Data/shopeefood_store_14_d.txt', sep=\"\\t\")\n",
    "df_15_d = pd.read_csv('./Data/shopeefood_store_15_d.txt', sep=\"\\t\")\n",
    "df_15_n = pd.read_csv('./Data/shopeefood_store_15_n.txt', sep=\"\\t\")\n",
    "df_16_n = pd.read_csv('./Data/shopeefood_store_16_n.txt', sep=\"\\t\")"
   ]
  },
  {
   "cell_type": "code",
   "execution_count": 3,
   "id": "af70ceae",
   "metadata": {},
   "outputs": [
    {
     "data": {
      "text/html": [
       "<div>\n",
       "<style scoped>\n",
       "    .dataframe tbody tr th:only-of-type {\n",
       "        vertical-align: middle;\n",
       "    }\n",
       "\n",
       "    .dataframe tbody tr th {\n",
       "        vertical-align: top;\n",
       "    }\n",
       "\n",
       "    .dataframe thead th {\n",
       "        text-align: right;\n",
       "    }\n",
       "</style>\n",
       "<table border=\"1\" class=\"dataframe\">\n",
       "  <thead>\n",
       "    <tr style=\"text-align: right;\">\n",
       "      <th></th>\n",
       "      <th>Loại cửa hàng</th>\n",
       "      <th>Tên cửa hàng</th>\n",
       "      <th>Địa chỉ cửa hàng</th>\n",
       "      <th>Số sao trên ShopeeFood</th>\n",
       "      <th>Số lượt đánh giá trên ShopeeFood</th>\n",
       "      <th>Thời gian mở cửa</th>\n",
       "      <th>Giá thấp nhất</th>\n",
       "      <th>Giá cao nhất</th>\n",
       "      <th>Phí dịch vụ</th>\n",
       "      <th>Số sao trên Foody</th>\n",
       "      <th>Số lượt đánh giá trên Foody</th>\n",
       "    </tr>\n",
       "  </thead>\n",
       "  <tbody>\n",
       "    <tr>\n",
       "      <th>0</th>\n",
       "      <td>Quán ăn</td>\n",
       "      <td>Hủ Tiếu Nam Vang Hòa Phát - Nguyễn Thanh Sơn</td>\n",
       "      <td>36A Nguyễn Thanh Sơn, P. Thạnh Mỹ Lợi, Thủ Đức...</td>\n",
       "      <td>4.5</td>\n",
       "      <td>100+</td>\n",
       "      <td>06:16 - 20:40</td>\n",
       "      <td>30,000</td>\n",
       "      <td>50,000</td>\n",
       "      <td>0.0%</td>\n",
       "      <td>&lt;span&gt;_._&lt;/span&gt;</td>\n",
       "      <td>0</td>\n",
       "    </tr>\n",
       "    <tr>\n",
       "      <th>1</th>\n",
       "      <td>Quán ăn</td>\n",
       "      <td>HỦ TIẾU NAM VANG NAM KIỆT - Hủ Tiếu Nam Vang -...</td>\n",
       "      <td>38A Nguyễn Thanh Sơn, P. Thạnh Mỹ Lợi, Thủ Đức...</td>\n",
       "      <td>3.5</td>\n",
       "      <td>7</td>\n",
       "      <td>06:00 - 20:30</td>\n",
       "      <td>0</td>\n",
       "      <td>0</td>\n",
       "      <td>0.0%</td>\n",
       "      <td>&lt;span&gt;_._&lt;/span&gt;</td>\n",
       "      <td>0</td>\n",
       "    </tr>\n",
       "    <tr>\n",
       "      <th>2</th>\n",
       "      <td>Quán ăn</td>\n",
       "      <td>Dose Coffee - Nguyễn Thanh Sơn</td>\n",
       "      <td>11 Nguyễn Thanh Sơn, P. Thạnh Mỹ Lợi, Thủ Đức,...</td>\n",
       "      <td>5.0</td>\n",
       "      <td>10+</td>\n",
       "      <td>07:00 - 20:30</td>\n",
       "      <td>0</td>\n",
       "      <td>0</td>\n",
       "      <td>0.0%</td>\n",
       "      <td>&lt;span&gt;_._&lt;/span&gt;</td>\n",
       "      <td>0</td>\n",
       "    </tr>\n",
       "    <tr>\n",
       "      <th>3</th>\n",
       "      <td>Café/Dessert</td>\n",
       "      <td>Phúc Long Đảo Kim Cương</td>\n",
       "      <td>Khu Thương Mại B2.2B, Tầng B2, Tháp Bora Bora,...</td>\n",
       "      <td>4.5</td>\n",
       "      <td>100+</td>\n",
       "      <td>07:00 - 20:30</td>\n",
       "      <td>30,000</td>\n",
       "      <td>100,000</td>\n",
       "      <td>0.0%</td>\n",
       "      <td>&lt;span&gt;_._&lt;/span&gt;</td>\n",
       "      <td>0</td>\n",
       "    </tr>\n",
       "    <tr>\n",
       "      <th>4</th>\n",
       "      <td>Quán ăn</td>\n",
       "      <td>Lẩu Bò Anh Ba - Đường Số 104</td>\n",
       "      <td>21 Đường Số 104, P. Thạnh Mỹ Lợi, Thủ Đức, TP....</td>\n",
       "      <td>4.5</td>\n",
       "      <td>100+</td>\n",
       "      <td>09:30 - 22:30</td>\n",
       "      <td>10,000</td>\n",
       "      <td>300,000</td>\n",
       "      <td>0.0%</td>\n",
       "      <td>&lt;span&gt;_._&lt;/span&gt;</td>\n",
       "      <td>0</td>\n",
       "    </tr>\n",
       "    <tr>\n",
       "      <th>...</th>\n",
       "      <td>...</td>\n",
       "      <td>...</td>\n",
       "      <td>...</td>\n",
       "      <td>...</td>\n",
       "      <td>...</td>\n",
       "      <td>...</td>\n",
       "      <td>...</td>\n",
       "      <td>...</td>\n",
       "      <td>...</td>\n",
       "      <td>...</td>\n",
       "      <td>...</td>\n",
       "    </tr>\n",
       "    <tr>\n",
       "      <th>95</th>\n",
       "      <td>Quán ăn</td>\n",
       "      <td>Mimosa India Kitchen - Cà Ri Ấn Độ - Đường Số 7</td>\n",
       "      <td>25A Đường Số 7, P. Thạnh Mỹ Lợi, Thủ Đức, TP. HCM</td>\n",
       "      <td>4.5</td>\n",
       "      <td>50+</td>\n",
       "      <td>10:00 - 23:59</td>\n",
       "      <td>39,000</td>\n",
       "      <td>199,000</td>\n",
       "      <td>0.0%</td>\n",
       "      <td>2.8</td>\n",
       "      <td>1</td>\n",
       "    </tr>\n",
       "    <tr>\n",
       "      <th>96</th>\n",
       "      <td>Café/Dessert</td>\n",
       "      <td>Vivo - Cafe &amp;amp; Trà Sữa</td>\n",
       "      <td>200/13 Nguyễn Thị Định, Thủ Đức, TP. HCM</td>\n",
       "      <td>4.5</td>\n",
       "      <td>8</td>\n",
       "      <td>06:00 - 17:00</td>\n",
       "      <td>10,000</td>\n",
       "      <td>45,000</td>\n",
       "      <td>ShopeeFood&lt;/span</td>\n",
       "      <td>10.0</td>\n",
       "      <td>1</td>\n",
       "    </tr>\n",
       "    <tr>\n",
       "      <th>97</th>\n",
       "      <td>Quán ăn</td>\n",
       "      <td>Quán Ăn Gia Đình 36</td>\n",
       "      <td>123/7 Đồng Văn Cống, Thủ Đức, TP. HCM</td>\n",
       "      <td>4.5</td>\n",
       "      <td>3</td>\n",
       "      <td>07:00 - 23:00</td>\n",
       "      <td>10,000</td>\n",
       "      <td>290,000</td>\n",
       "      <td>ShopeeFood&lt;/span</td>\n",
       "      <td>7.0</td>\n",
       "      <td>1</td>\n",
       "    </tr>\n",
       "    <tr>\n",
       "      <th>98</th>\n",
       "      <td>Café/Dessert</td>\n",
       "      <td>Diamond Coffee - Thân Văn Nhiếp (không có menu)</td>\n",
       "      <td>153 Thân Văn Nhiếp, P. An Phú, Quận 2, TP. HCM</td>\n",
       "      <td>4.5</td>\n",
       "      <td>10+</td>\n",
       "      <td>07:00 - 20:00</td>\n",
       "      <td>20,000</td>\n",
       "      <td>50,000</td>\n",
       "      <td>0.0%</td>\n",
       "      <td>0</td>\n",
       "      <td>0</td>\n",
       "    </tr>\n",
       "    <tr>\n",
       "      <th>99</th>\n",
       "      <td>Ăn vặt/vỉa hè</td>\n",
       "      <td>Ba Chiêuu Food And Drinks - Cà Phê Và Ốc - Đườ...</td>\n",
       "      <td>76 Đường Số 52, P. An Phú, Thủ Đức, TP. HCM</td>\n",
       "      <td>0.0</td>\n",
       "      <td>0</td>\n",
       "      <td>06:00 - 23:30</td>\n",
       "      <td>0</td>\n",
       "      <td>0</td>\n",
       "      <td>0.0%</td>\n",
       "      <td>0</td>\n",
       "      <td>0</td>\n",
       "    </tr>\n",
       "  </tbody>\n",
       "</table>\n",
       "<p>100 rows × 11 columns</p>\n",
       "</div>"
      ],
      "text/plain": [
       "    Loại cửa hàng                                       Tên cửa hàng  \\\n",
       "0         Quán ăn       Hủ Tiếu Nam Vang Hòa Phát - Nguyễn Thanh Sơn   \n",
       "1         Quán ăn  HỦ TIẾU NAM VANG NAM KIỆT - Hủ Tiếu Nam Vang -...   \n",
       "2         Quán ăn                     Dose Coffee - Nguyễn Thanh Sơn   \n",
       "3    Café/Dessert                            Phúc Long Đảo Kim Cương   \n",
       "4         Quán ăn                       Lẩu Bò Anh Ba - Đường Số 104   \n",
       "..            ...                                                ...   \n",
       "95        Quán ăn    Mimosa India Kitchen - Cà Ri Ấn Độ - Đường Số 7   \n",
       "96   Café/Dessert                          Vivo - Cafe &amp; Trà Sữa   \n",
       "97        Quán ăn                                Quán Ăn Gia Đình 36   \n",
       "98   Café/Dessert    Diamond Coffee - Thân Văn Nhiếp (không có menu)   \n",
       "99  Ăn vặt/vỉa hè  Ba Chiêuu Food And Drinks - Cà Phê Và Ốc - Đườ...   \n",
       "\n",
       "                                     Địa chỉ cửa hàng  Số sao trên ShopeeFood  \\\n",
       "0   36A Nguyễn Thanh Sơn, P. Thạnh Mỹ Lợi, Thủ Đức...                     4.5   \n",
       "1   38A Nguyễn Thanh Sơn, P. Thạnh Mỹ Lợi, Thủ Đức...                     3.5   \n",
       "2   11 Nguyễn Thanh Sơn, P. Thạnh Mỹ Lợi, Thủ Đức,...                     5.0   \n",
       "3   Khu Thương Mại B2.2B, Tầng B2, Tháp Bora Bora,...                     4.5   \n",
       "4   21 Đường Số 104, P. Thạnh Mỹ Lợi, Thủ Đức, TP....                     4.5   \n",
       "..                                                ...                     ...   \n",
       "95  25A Đường Số 7, P. Thạnh Mỹ Lợi, Thủ Đức, TP. HCM                     4.5   \n",
       "96           200/13 Nguyễn Thị Định, Thủ Đức, TP. HCM                     4.5   \n",
       "97              123/7 Đồng Văn Cống, Thủ Đức, TP. HCM                     4.5   \n",
       "98     153 Thân Văn Nhiếp, P. An Phú, Quận 2, TP. HCM                     4.5   \n",
       "99        76 Đường Số 52, P. An Phú, Thủ Đức, TP. HCM                     0.0   \n",
       "\n",
       "   Số lượt đánh giá trên ShopeeFood Thời gian mở cửa Giá thấp nhất  \\\n",
       "0                              100+    06:16 - 20:40        30,000   \n",
       "1                                 7    06:00 - 20:30             0   \n",
       "2                               10+    07:00 - 20:30             0   \n",
       "3                              100+    07:00 - 20:30        30,000   \n",
       "4                              100+    09:30 - 22:30        10,000   \n",
       "..                              ...              ...           ...   \n",
       "95                              50+    10:00 - 23:59        39,000   \n",
       "96                                8    06:00 - 17:00        10,000   \n",
       "97                                3    07:00 - 23:00        10,000   \n",
       "98                              10+    07:00 - 20:00        20,000   \n",
       "99                                0    06:00 - 23:30             0   \n",
       "\n",
       "   Giá cao nhất       Phí dịch vụ Số sao trên Foody  \\\n",
       "0        50,000              0.0%  <span>_._</span>   \n",
       "1             0              0.0%  <span>_._</span>   \n",
       "2             0              0.0%  <span>_._</span>   \n",
       "3       100,000              0.0%  <span>_._</span>   \n",
       "4       300,000              0.0%  <span>_._</span>   \n",
       "..          ...               ...               ...   \n",
       "95      199,000              0.0%               2.8   \n",
       "96       45,000  ShopeeFood</span              10.0   \n",
       "97      290,000  ShopeeFood</span               7.0   \n",
       "98       50,000              0.0%                 0   \n",
       "99            0              0.0%                 0   \n",
       "\n",
       "   Số lượt đánh giá trên Foody  \n",
       "0                            0  \n",
       "1                            0  \n",
       "2                            0  \n",
       "3                            0  \n",
       "4                            0  \n",
       "..                         ...  \n",
       "95                           1  \n",
       "96                           1  \n",
       "97                           1  \n",
       "98                           0  \n",
       "99                           0  \n",
       "\n",
       "[100 rows x 11 columns]"
      ]
     },
     "execution_count": 3,
     "metadata": {},
     "output_type": "execute_result"
    }
   ],
   "source": [
    "frames = [df_1, df_1_n, df_2, df_3, df_4, df_4_d, df_5, df_6_n, df_7_n, df_8_d, df_8_n, df_9_n, df_10_d, df_11_d, df_12_d, df_12_n, df_13_d, df_13_n, df_14_d, df_15_d, df_15_n, df_16_n]\n",
    "df = pd.concat(frames)\n",
    "df.drop_duplicates(subset = ['Tên cửa hàng'],inplace = True)\n",
    "df.reset_index(drop = True, inplace = True)\n",
    "df.head(100)"
   ]
  },
  {
   "cell_type": "code",
   "execution_count": 4,
   "id": "02a03bed",
   "metadata": {
    "scrolled": true
   },
   "outputs": [
    {
     "name": "stderr",
     "output_type": "stream",
     "text": [
      "C:\\Users\\ASUS\\AppData\\Local\\Temp/ipykernel_4980/170162826.py:6: SettingWithCopyWarning: \n",
      "A value is trying to be set on a copy of a slice from a DataFrame\n",
      "\n",
      "See the caveats in the documentation: https://pandas.pydata.org/pandas-docs/stable/user_guide/indexing.html#returning-a-view-versus-a-copy\n",
      "  df['Tên cửa hàng'][i] = df['Tên cửa hàng'][i].replace('&amp;','Và')\n"
     ]
    }
   ],
   "source": [
    "#Xử lý ngoại lệ số sao\n",
    "df['Số sao trên Foody'] = df['Số sao trên Foody'].replace('<span>_._</span>','0')\n",
    "#Xử lý tên cửa hàng\n",
    "for i in range(len(df['Tên cửa hàng'])):\n",
    "    if df['Tên cửa hàng'][i].find('&amp;'):\n",
    "        df['Tên cửa hàng'][i] = df['Tên cửa hàng'][i].replace('&amp;','Và')\n",
    "#Xử lý lượt đánh giá\n",
    "#df['Số lượt đánh giá trên ShopeeFood'] = df['Số lượt đánh giá trên ShopeeFood'].apply(lambda x: '<100' if x not in ['100+','500+','999+'] else x)\n",
    "#Xử lý Phí dịch vụ\n",
    "df['Phí dịch vụ'] = df['Phí dịch vụ'].apply(lambda x: 'Unknown' if x == 'ShopeeFood</span' else x)\n",
    "df['Số sao trên Foody'] = df['Số sao trên Foody'].astype('float64')\n",
    "df['Số lượt đánh giá trên Foody'] = df['Số lượt đánh giá trên Foody'].replace(',','', regex=True).astype(int)\n",
    "df['Giá thấp nhất'] = df['Giá thấp nhất'].replace(',','', regex=True).astype(int)\n",
    "df['Giá cao nhất'] = df['Giá cao nhất'].replace(',','', regex=True).astype(int)"
   ]
  },
  {
   "cell_type": "code",
   "execution_count": 5,
   "id": "9b6bf1f3",
   "metadata": {},
   "outputs": [
    {
     "data": {
      "text/html": [
       "<div>\n",
       "<style scoped>\n",
       "    .dataframe tbody tr th:only-of-type {\n",
       "        vertical-align: middle;\n",
       "    }\n",
       "\n",
       "    .dataframe tbody tr th {\n",
       "        vertical-align: top;\n",
       "    }\n",
       "\n",
       "    .dataframe thead th {\n",
       "        text-align: right;\n",
       "    }\n",
       "</style>\n",
       "<table border=\"1\" class=\"dataframe\">\n",
       "  <thead>\n",
       "    <tr style=\"text-align: right;\">\n",
       "      <th></th>\n",
       "      <th>Loại cửa hàng</th>\n",
       "      <th>Tên cửa hàng</th>\n",
       "      <th>Địa chỉ cửa hàng</th>\n",
       "      <th>Số sao trên ShopeeFood</th>\n",
       "      <th>Số lượt đánh giá trên ShopeeFood</th>\n",
       "      <th>Thời gian mở cửa</th>\n",
       "      <th>Giá thấp nhất</th>\n",
       "      <th>Giá cao nhất</th>\n",
       "      <th>Phí dịch vụ</th>\n",
       "      <th>Số sao trên Foody</th>\n",
       "      <th>Số lượt đánh giá trên Foody</th>\n",
       "    </tr>\n",
       "  </thead>\n",
       "  <tbody>\n",
       "    <tr>\n",
       "      <th>0</th>\n",
       "      <td>Quán ăn</td>\n",
       "      <td>Hủ Tiếu Nam Vang Hòa Phát - Nguyễn Thanh Sơn</td>\n",
       "      <td>36A Nguyễn Thanh Sơn, P. Thạnh Mỹ Lợi, Thủ Đức...</td>\n",
       "      <td>4.5</td>\n",
       "      <td>100+</td>\n",
       "      <td>06:16 - 20:40</td>\n",
       "      <td>30000</td>\n",
       "      <td>50000</td>\n",
       "      <td>0.0%</td>\n",
       "      <td>0.0</td>\n",
       "      <td>0</td>\n",
       "    </tr>\n",
       "    <tr>\n",
       "      <th>1</th>\n",
       "      <td>Quán ăn</td>\n",
       "      <td>HỦ TIẾU NAM VANG NAM KIỆT - Hủ Tiếu Nam Vang -...</td>\n",
       "      <td>38A Nguyễn Thanh Sơn, P. Thạnh Mỹ Lợi, Thủ Đức...</td>\n",
       "      <td>3.5</td>\n",
       "      <td>7</td>\n",
       "      <td>06:00 - 20:30</td>\n",
       "      <td>0</td>\n",
       "      <td>0</td>\n",
       "      <td>0.0%</td>\n",
       "      <td>0.0</td>\n",
       "      <td>0</td>\n",
       "    </tr>\n",
       "    <tr>\n",
       "      <th>2</th>\n",
       "      <td>Quán ăn</td>\n",
       "      <td>Dose Coffee - Nguyễn Thanh Sơn</td>\n",
       "      <td>11 Nguyễn Thanh Sơn, P. Thạnh Mỹ Lợi, Thủ Đức,...</td>\n",
       "      <td>5.0</td>\n",
       "      <td>10+</td>\n",
       "      <td>07:00 - 20:30</td>\n",
       "      <td>0</td>\n",
       "      <td>0</td>\n",
       "      <td>0.0%</td>\n",
       "      <td>0.0</td>\n",
       "      <td>0</td>\n",
       "    </tr>\n",
       "    <tr>\n",
       "      <th>3</th>\n",
       "      <td>Café/Dessert</td>\n",
       "      <td>Phúc Long Đảo Kim Cương</td>\n",
       "      <td>Khu Thương Mại B2.2B, Tầng B2, Tháp Bora Bora,...</td>\n",
       "      <td>4.5</td>\n",
       "      <td>100+</td>\n",
       "      <td>07:00 - 20:30</td>\n",
       "      <td>30000</td>\n",
       "      <td>100000</td>\n",
       "      <td>0.0%</td>\n",
       "      <td>0.0</td>\n",
       "      <td>0</td>\n",
       "    </tr>\n",
       "    <tr>\n",
       "      <th>4</th>\n",
       "      <td>Quán ăn</td>\n",
       "      <td>Lẩu Bò Anh Ba - Đường Số 104</td>\n",
       "      <td>21 Đường Số 104, P. Thạnh Mỹ Lợi, Thủ Đức, TP....</td>\n",
       "      <td>4.5</td>\n",
       "      <td>100+</td>\n",
       "      <td>09:30 - 22:30</td>\n",
       "      <td>10000</td>\n",
       "      <td>300000</td>\n",
       "      <td>0.0%</td>\n",
       "      <td>0.0</td>\n",
       "      <td>0</td>\n",
       "    </tr>\n",
       "    <tr>\n",
       "      <th>...</th>\n",
       "      <td>...</td>\n",
       "      <td>...</td>\n",
       "      <td>...</td>\n",
       "      <td>...</td>\n",
       "      <td>...</td>\n",
       "      <td>...</td>\n",
       "      <td>...</td>\n",
       "      <td>...</td>\n",
       "      <td>...</td>\n",
       "      <td>...</td>\n",
       "      <td>...</td>\n",
       "    </tr>\n",
       "    <tr>\n",
       "      <th>14019</th>\n",
       "      <td>Café/Dessert</td>\n",
       "      <td>Hoa Lá Cafe</td>\n",
       "      <td>Nguyễn Chí Thanh, P. Hiệp An, Thị xã Thủ Dầu M...</td>\n",
       "      <td>5.0</td>\n",
       "      <td>3</td>\n",
       "      <td>06:00 - 22:30</td>\n",
       "      <td>12000</td>\n",
       "      <td>25000</td>\n",
       "      <td>Unknown</td>\n",
       "      <td>8.6</td>\n",
       "      <td>2</td>\n",
       "    </tr>\n",
       "    <tr>\n",
       "      <th>14020</th>\n",
       "      <td>Quán ăn</td>\n",
       "      <td>Cơm Gà Tam Kỳ - Diễm Thuý</td>\n",
       "      <td>190 Khu Dân Cư Hiệp Thành 3, P. Hiệp Thành, Th...</td>\n",
       "      <td>4.5</td>\n",
       "      <td>100+</td>\n",
       "      <td>10:00 - 21:00</td>\n",
       "      <td>30000</td>\n",
       "      <td>400000</td>\n",
       "      <td>0.0%</td>\n",
       "      <td>0.0</td>\n",
       "      <td>0</td>\n",
       "    </tr>\n",
       "    <tr>\n",
       "      <th>14021</th>\n",
       "      <td>Quán ăn</td>\n",
       "      <td>Cơm Gà Tam Kỳ - Lê Hồng Phong</td>\n",
       "      <td>436 Lê Hồng Phong, P. Phú Hòa, Thị xã Thủ Dầu ...</td>\n",
       "      <td>4.5</td>\n",
       "      <td>50+</td>\n",
       "      <td>10:00 - 20:00</td>\n",
       "      <td>32000</td>\n",
       "      <td>280000</td>\n",
       "      <td>0.0%</td>\n",
       "      <td>0.0</td>\n",
       "      <td>0</td>\n",
       "    </tr>\n",
       "    <tr>\n",
       "      <th>14022</th>\n",
       "      <td>Quán ăn</td>\n",
       "      <td>Cơm Gà Ta Bình An</td>\n",
       "      <td>2 Lê Thị Trung, P. Phú Lợi, Thị xã Thủ Dầu Một...</td>\n",
       "      <td>4.5</td>\n",
       "      <td>100+</td>\n",
       "      <td>10:30 - 20:00</td>\n",
       "      <td>30000</td>\n",
       "      <td>30000</td>\n",
       "      <td>0.0%</td>\n",
       "      <td>0.0</td>\n",
       "      <td>0</td>\n",
       "    </tr>\n",
       "    <tr>\n",
       "      <th>14023</th>\n",
       "      <td>Giao cơm văn phòng</td>\n",
       "      <td>Hai Đức - Cơm - Đường D5 Khu Dân Cư K8</td>\n",
       "      <td>44 Khu Dân Cư K8, Đường D5, P. Hiệp Thành, Thị...</td>\n",
       "      <td>4.5</td>\n",
       "      <td>10+</td>\n",
       "      <td>10:30 - 19:30</td>\n",
       "      <td>0</td>\n",
       "      <td>0</td>\n",
       "      <td>0.0%</td>\n",
       "      <td>0.0</td>\n",
       "      <td>0</td>\n",
       "    </tr>\n",
       "  </tbody>\n",
       "</table>\n",
       "<p>14024 rows × 11 columns</p>\n",
       "</div>"
      ],
      "text/plain": [
       "            Loại cửa hàng                                       Tên cửa hàng  \\\n",
       "0                 Quán ăn       Hủ Tiếu Nam Vang Hòa Phát - Nguyễn Thanh Sơn   \n",
       "1                 Quán ăn  HỦ TIẾU NAM VANG NAM KIỆT - Hủ Tiếu Nam Vang -...   \n",
       "2                 Quán ăn                     Dose Coffee - Nguyễn Thanh Sơn   \n",
       "3            Café/Dessert                            Phúc Long Đảo Kim Cương   \n",
       "4                 Quán ăn                       Lẩu Bò Anh Ba - Đường Số 104   \n",
       "...                   ...                                                ...   \n",
       "14019        Café/Dessert                                        Hoa Lá Cafe   \n",
       "14020             Quán ăn                          Cơm Gà Tam Kỳ - Diễm Thuý   \n",
       "14021             Quán ăn                      Cơm Gà Tam Kỳ - Lê Hồng Phong   \n",
       "14022             Quán ăn                                  Cơm Gà Ta Bình An   \n",
       "14023  Giao cơm văn phòng             Hai Đức - Cơm - Đường D5 Khu Dân Cư K8   \n",
       "\n",
       "                                        Địa chỉ cửa hàng  \\\n",
       "0      36A Nguyễn Thanh Sơn, P. Thạnh Mỹ Lợi, Thủ Đức...   \n",
       "1      38A Nguyễn Thanh Sơn, P. Thạnh Mỹ Lợi, Thủ Đức...   \n",
       "2      11 Nguyễn Thanh Sơn, P. Thạnh Mỹ Lợi, Thủ Đức,...   \n",
       "3      Khu Thương Mại B2.2B, Tầng B2, Tháp Bora Bora,...   \n",
       "4      21 Đường Số 104, P. Thạnh Mỹ Lợi, Thủ Đức, TP....   \n",
       "...                                                  ...   \n",
       "14019  Nguyễn Chí Thanh, P. Hiệp An, Thị xã Thủ Dầu M...   \n",
       "14020  190 Khu Dân Cư Hiệp Thành 3, P. Hiệp Thành, Th...   \n",
       "14021  436 Lê Hồng Phong, P. Phú Hòa, Thị xã Thủ Dầu ...   \n",
       "14022  2 Lê Thị Trung, P. Phú Lợi, Thị xã Thủ Dầu Một...   \n",
       "14023  44 Khu Dân Cư K8, Đường D5, P. Hiệp Thành, Thị...   \n",
       "\n",
       "       Số sao trên ShopeeFood Số lượt đánh giá trên ShopeeFood  \\\n",
       "0                         4.5                             100+   \n",
       "1                         3.5                                7   \n",
       "2                         5.0                              10+   \n",
       "3                         4.5                             100+   \n",
       "4                         4.5                             100+   \n",
       "...                       ...                              ...   \n",
       "14019                     5.0                                3   \n",
       "14020                     4.5                             100+   \n",
       "14021                     4.5                              50+   \n",
       "14022                     4.5                             100+   \n",
       "14023                     4.5                              10+   \n",
       "\n",
       "      Thời gian mở cửa  Giá thấp nhất  Giá cao nhất Phí dịch vụ  \\\n",
       "0        06:16 - 20:40          30000         50000        0.0%   \n",
       "1        06:00 - 20:30              0             0        0.0%   \n",
       "2        07:00 - 20:30              0             0        0.0%   \n",
       "3        07:00 - 20:30          30000        100000        0.0%   \n",
       "4        09:30 - 22:30          10000        300000        0.0%   \n",
       "...                ...            ...           ...         ...   \n",
       "14019    06:00 - 22:30          12000         25000     Unknown   \n",
       "14020    10:00 - 21:00          30000        400000        0.0%   \n",
       "14021    10:00 - 20:00          32000        280000        0.0%   \n",
       "14022    10:30 - 20:00          30000         30000        0.0%   \n",
       "14023    10:30 - 19:30              0             0        0.0%   \n",
       "\n",
       "       Số sao trên Foody  Số lượt đánh giá trên Foody  \n",
       "0                    0.0                            0  \n",
       "1                    0.0                            0  \n",
       "2                    0.0                            0  \n",
       "3                    0.0                            0  \n",
       "4                    0.0                            0  \n",
       "...                  ...                          ...  \n",
       "14019                8.6                            2  \n",
       "14020                0.0                            0  \n",
       "14021                0.0                            0  \n",
       "14022                0.0                            0  \n",
       "14023                0.0                            0  \n",
       "\n",
       "[14024 rows x 11 columns]"
      ]
     },
     "execution_count": 5,
     "metadata": {},
     "output_type": "execute_result"
    }
   ],
   "source": [
    "df"
   ]
  },
  {
   "cell_type": "code",
   "execution_count": 6,
   "id": "d433eb2a",
   "metadata": {},
   "outputs": [
    {
     "data": {
      "text/plain": [
       "Loại cửa hàng                        object\n",
       "Tên cửa hàng                         object\n",
       "Địa chỉ cửa hàng                     object\n",
       "Số sao trên ShopeeFood              float64\n",
       "Số lượt đánh giá trên ShopeeFood     object\n",
       "Thời gian mở cửa                     object\n",
       "Giá thấp nhất                         int32\n",
       "Giá cao nhất                          int32\n",
       "Phí dịch vụ                          object\n",
       "Số sao trên Foody                   float64\n",
       "Số lượt đánh giá trên Foody           int32\n",
       "dtype: object"
      ]
     },
     "execution_count": 6,
     "metadata": {},
     "output_type": "execute_result"
    }
   ],
   "source": [
    "df.dtypes"
   ]
  },
  {
   "cell_type": "code",
   "execution_count": 7,
   "id": "a0aabb8a",
   "metadata": {},
   "outputs": [
    {
     "data": {
      "text/html": [
       "<div>\n",
       "<style scoped>\n",
       "    .dataframe tbody tr th:only-of-type {\n",
       "        vertical-align: middle;\n",
       "    }\n",
       "\n",
       "    .dataframe tbody tr th {\n",
       "        vertical-align: top;\n",
       "    }\n",
       "\n",
       "    .dataframe thead th {\n",
       "        text-align: right;\n",
       "    }\n",
       "</style>\n",
       "<table border=\"1\" class=\"dataframe\">\n",
       "  <thead>\n",
       "    <tr style=\"text-align: right;\">\n",
       "      <th></th>\n",
       "      <th>Thời gian mở cửa</th>\n",
       "      <th>Số lượt đánh giá trên ShopeeFood</th>\n",
       "      <th>Phí dịch vụ</th>\n",
       "      <th>Địa chỉ cửa hàng</th>\n",
       "      <th>Loại cửa hàng</th>\n",
       "      <th>Tên cửa hàng</th>\n",
       "    </tr>\n",
       "  </thead>\n",
       "  <tbody>\n",
       "    <tr>\n",
       "      <th>num_values</th>\n",
       "      <td>2184</td>\n",
       "      <td>15</td>\n",
       "      <td>3</td>\n",
       "      <td>13378</td>\n",
       "      <td>82</td>\n",
       "      <td>14024</td>\n",
       "    </tr>\n",
       "    <tr>\n",
       "      <th>value_ratios</th>\n",
       "      <td>{'09:00 - 21:00': 4.1, '09:00 - 22:00': 4.0, '10:00 - 22:00': 3.1, '07:00 - 22:00': 2.9, '08:00 - 22:00': 2.8, '00:00 - 23:59': 2.8, '06:00 - 22:00': 2.4, '10:00 - 21:00': 2.4, '07:00 - 21:00': 2....</td>\n",
       "      <td>{'999+': 26.2, '100+': 22.2, '10+': 15.9, '500+': 10.0, '50+': 8.0, '0': 5.3, '1': 2.6, '2': 1.9, '4': 1.5, '3': 1.5, '5': 1.1, '6': 1.1, '8': 1.0, '9': 0.8, '7': 0.8}</td>\n",
       "      <td>{'0.0%': 91.3, 'Unknown': 8.7, '2.0%': 0.0}</td>\n",
       "      <td>{'372/17 Cách Mạng Tháng 8, P. 10, Quận 3, TP. HCM': 0.1, '213/9 Nguyễn Gia Trí, P. 25, Bình Thạnh, TP. HCM': 0.1, '28 Phan Phú Tiên, P. 10, Quận 5, TP. HCM': 0.1, '90 Trần Khắc Chân, P. 9, Phú Nh...</td>\n",
       "      <td>{'Quán ăn': 43.3, 'Café/Dessert': 24.3, 'Ăn vặt/vỉa hè': 10.4, 'Nhà hàng': 6.5, 'Shop Online': 4.8, 'Tiệm bánh': 3.0, 'Ăn chay': 1.5, 'Café/Dessert, Quán ăn': 0.9, 'Quán nhậu': 0.5, 'Quán ăn, Ăn v...</td>\n",
       "      <td>{'Tiệm ăn vặt Bondsai  - Ăn vặt Việt Trung Thái - Online': 0.0, 'Dương - Cơm Tấm Sài Gòn': 0.0, 'Thùy Khương - Vịt Các Món': 0.0, 'Bánh Mỳ Miele Pane - 17 Kim Đồng': 0.0, 'Bếp Thỏ - Tàu Hũ Trân Ch...</td>\n",
       "    </tr>\n",
       "  </tbody>\n",
       "</table>\n",
       "</div>"
      ],
      "text/plain": [
       "                                                                                                                                                                                                     Thời gian mở cửa  \\\n",
       "num_values                                                                                                                                                                                                       2184   \n",
       "value_ratios  {'09:00 - 21:00': 4.1, '09:00 - 22:00': 4.0, '10:00 - 22:00': 3.1, '07:00 - 22:00': 2.9, '08:00 - 22:00': 2.8, '00:00 - 23:59': 2.8, '06:00 - 22:00': 2.4, '10:00 - 21:00': 2.4, '07:00 - 21:00': 2....   \n",
       "\n",
       "                                                                                                                                                     Số lượt đánh giá trên ShopeeFood  \\\n",
       "num_values                                                                                                                                                                         15   \n",
       "value_ratios  {'999+': 26.2, '100+': 22.2, '10+': 15.9, '500+': 10.0, '50+': 8.0, '0': 5.3, '1': 2.6, '2': 1.9, '4': 1.5, '3': 1.5, '5': 1.1, '6': 1.1, '8': 1.0, '9': 0.8, '7': 0.8}   \n",
       "\n",
       "                                              Phí dịch vụ  \\\n",
       "num_values                                              3   \n",
       "value_ratios  {'0.0%': 91.3, 'Unknown': 8.7, '2.0%': 0.0}   \n",
       "\n",
       "                                                                                                                                                                                                     Địa chỉ cửa hàng  \\\n",
       "num_values                                                                                                                                                                                                      13378   \n",
       "value_ratios  {'372/17 Cách Mạng Tháng 8, P. 10, Quận 3, TP. HCM': 0.1, '213/9 Nguyễn Gia Trí, P. 25, Bình Thạnh, TP. HCM': 0.1, '28 Phan Phú Tiên, P. 10, Quận 5, TP. HCM': 0.1, '90 Trần Khắc Chân, P. 9, Phú Nh...   \n",
       "\n",
       "                                                                                                                                                                                                        Loại cửa hàng  \\\n",
       "num_values                                                                                                                                                                                                         82   \n",
       "value_ratios  {'Quán ăn': 43.3, 'Café/Dessert': 24.3, 'Ăn vặt/vỉa hè': 10.4, 'Nhà hàng': 6.5, 'Shop Online': 4.8, 'Tiệm bánh': 3.0, 'Ăn chay': 1.5, 'Café/Dessert, Quán ăn': 0.9, 'Quán nhậu': 0.5, 'Quán ăn, Ăn v...   \n",
       "\n",
       "                                                                                                                                                                                                         Tên cửa hàng  \n",
       "num_values                                                                                                                                                                                                      14024  \n",
       "value_ratios  {'Tiệm ăn vặt Bondsai  - Ăn vặt Việt Trung Thái - Online': 0.0, 'Dương - Cơm Tấm Sài Gòn': 0.0, 'Thùy Khương - Vịt Các Món': 0.0, 'Bánh Mỳ Miele Pane - 17 Kim Đồng': 0.0, 'Bếp Thỏ - Tàu Hũ Trân Ch...  "
      ]
     },
     "execution_count": 7,
     "metadata": {},
     "output_type": "execute_result"
    }
   ],
   "source": [
    "num_cols = ['Số sao trên ShopeeFood','Số sao trên Foody','Số lượt đánh giá trên Foody','Giá thấp nhất','Giá cao nhất']\n",
    "pd.set_option('display.max_colwidth', 200) # Để nhìn rõ hơn\n",
    "cat_cols = list(set(df.columns) - set(num_cols))\n",
    "df_c = df[cat_cols]\n",
    "def num_values(df):\n",
    "    return df.nunique()\n",
    "def value_ratios(c):\n",
    "    return dict((c.value_counts(normalize=True) * 100).round(1))\n",
    "df_c.agg([num_values, value_ratios])"
   ]
  },
  {
   "cell_type": "code",
   "execution_count": 8,
   "id": "619ecc8d",
   "metadata": {},
   "outputs": [
    {
     "data": {
      "text/html": [
       "<div>\n",
       "<style scoped>\n",
       "    .dataframe tbody tr th:only-of-type {\n",
       "        vertical-align: middle;\n",
       "    }\n",
       "\n",
       "    .dataframe tbody tr th {\n",
       "        vertical-align: top;\n",
       "    }\n",
       "\n",
       "    .dataframe thead th {\n",
       "        text-align: right;\n",
       "    }\n",
       "</style>\n",
       "<table border=\"1\" class=\"dataframe\">\n",
       "  <thead>\n",
       "    <tr style=\"text-align: right;\">\n",
       "      <th></th>\n",
       "      <th>Số sao trên ShopeeFood</th>\n",
       "      <th>Số sao trên Foody</th>\n",
       "      <th>Số lượt đánh giá trên Foody</th>\n",
       "      <th>Giá thấp nhất</th>\n",
       "      <th>Giá cao nhất</th>\n",
       "    </tr>\n",
       "  </thead>\n",
       "  <tbody>\n",
       "    <tr>\n",
       "      <th>min</th>\n",
       "      <td>0.0</td>\n",
       "      <td>0.0</td>\n",
       "      <td>0.0</td>\n",
       "      <td>0.0</td>\n",
       "      <td>0.0</td>\n",
       "    </tr>\n",
       "    <tr>\n",
       "      <th>lower_quartile</th>\n",
       "      <td>4.5</td>\n",
       "      <td>0.0</td>\n",
       "      <td>0.0</td>\n",
       "      <td>10000.0</td>\n",
       "      <td>30000.0</td>\n",
       "    </tr>\n",
       "    <tr>\n",
       "      <th>median</th>\n",
       "      <td>4.5</td>\n",
       "      <td>5.9</td>\n",
       "      <td>1.0</td>\n",
       "      <td>20000.0</td>\n",
       "      <td>50000.0</td>\n",
       "    </tr>\n",
       "    <tr>\n",
       "      <th>upper_quartile</th>\n",
       "      <td>4.5</td>\n",
       "      <td>7.8</td>\n",
       "      <td>9.0</td>\n",
       "      <td>30000.0</td>\n",
       "      <td>100000.0</td>\n",
       "    </tr>\n",
       "    <tr>\n",
       "      <th>max</th>\n",
       "      <td>5.0</td>\n",
       "      <td>10.0</td>\n",
       "      <td>1458.0</td>\n",
       "      <td>500000.0</td>\n",
       "      <td>10000000.0</td>\n",
       "    </tr>\n",
       "  </tbody>\n",
       "</table>\n",
       "</div>"
      ],
      "text/plain": [
       "                Số sao trên ShopeeFood  Số sao trên Foody  \\\n",
       "min                                0.0                0.0   \n",
       "lower_quartile                     4.5                0.0   \n",
       "median                             4.5                5.9   \n",
       "upper_quartile                     4.5                7.8   \n",
       "max                                5.0               10.0   \n",
       "\n",
       "                Số lượt đánh giá trên Foody  Giá thấp nhất  Giá cao nhất  \n",
       "min                                     0.0            0.0           0.0  \n",
       "lower_quartile                          0.0        10000.0       30000.0  \n",
       "median                                  1.0        20000.0       50000.0  \n",
       "upper_quartile                          9.0        30000.0      100000.0  \n",
       "max                                  1458.0       500000.0    10000000.0  "
      ]
     },
     "execution_count": 8,
     "metadata": {},
     "output_type": "execute_result"
    }
   ],
   "source": [
    "df_n = df[num_cols]\n",
    "def lower_quartile(df):\n",
    "    return df.quantile(0.25).round(1)\n",
    "def median(df):\n",
    "    return df.quantile(0.5).round(1)\n",
    "def upper_quartile(df):\n",
    "    return df.quantile(0.75).round(1)\n",
    "df_n.agg(['min', lower_quartile, median, upper_quartile, 'max'])"
   ]
  },
  {
   "cell_type": "code",
   "execution_count": 9,
   "id": "88461999",
   "metadata": {},
   "outputs": [],
   "source": [
    "def pre_plot(df, name):\n",
    "    return df[name].value_counts()[:5].index, df[name].value_counts()[:5].values"
   ]
  },
  {
   "cell_type": "code",
   "execution_count": 10,
   "id": "3e99e654",
   "metadata": {},
   "outputs": [
    {
     "data": {
      "image/png": "[encoded data removed]",
      "text/plain": [
       "<Figure size 432x288 with 1 Axes>"
      ]
     },
     "metadata": {
      "needs_background": "light"
     },
     "output_type": "display_data"
    }
   ],
   "source": [
    "time, num_time = pre_plot(df, 'Thời gian mở cửa')\n",
    "plt.barh(time, num_time)\n",
    "plt.title('Thời gian mở cửa')\n",
    "plt.show()"
   ]
  },
  {
   "cell_type": "code",
   "execution_count": 11,
   "id": "6835e7b8",
   "metadata": {},
   "outputs": [
    {
     "data": {
      "image/png": "[encoded data removed]",
      "text/plain": [
       "<Figure size 432x288 with 1 Axes>"
      ]
     },
     "metadata": {
      "needs_background": "light"
     },
     "output_type": "display_data"
    }
   ],
   "source": [
    "star, num_star = pre_plot(df, 'Số lượt đánh giá trên ShopeeFood')\n",
    "plt.barh(star, num_star)\n",
    "plt.title('Số lượt đánh giá trên ShopeeFood')\n",
    "plt.show()"
   ]
  },
  {
   "cell_type": "code",
   "execution_count": 12,
   "id": "863a29ea",
   "metadata": {},
   "outputs": [
    {
     "data": {
      "image/png": "[encoded data removed]",
      "text/plain": [
       "<Figure size 432x288 with 1 Axes>"
      ]
     },
     "metadata": {
      "needs_background": "light"
     },
     "output_type": "display_data"
    }
   ],
   "source": [
    "service, service_num = pre_plot(df, 'Phí dịch vụ')\n",
    "plt.barh(service, service_num)\n",
    "plt.title('Phí dịch vụ')\n",
    "plt.show()"
   ]
  },
  {
   "cell_type": "code",
   "execution_count": 13,
   "id": "6fa15a47",
   "metadata": {},
   "outputs": [
    {
     "data": {
      "image/png": "[encoded data removed]",
      "text/plain": [
       "<Figure size 432x288 with 1 Axes>"
      ]
     },
     "metadata": {
      "needs_background": "light"
     },
     "output_type": "display_data"
    }
   ],
   "source": [
    "kind, kind_num = pre_plot(df, 'Loại cửa hàng')\n",
    "plt.barh(kind, kind_num)\n",
    "plt.title('Loại cửa hàng')\n",
    "plt.show()"
   ]
  },
  {
   "cell_type": "code",
   "execution_count": 14,
   "id": "ef639b32",
   "metadata": {},
   "outputs": [
    {
     "data": {
      "image/png": "[encoded data removed]",
      "text/plain": [
       "<Figure size 432x288 with 1 Axes>"
      ]
     },
     "metadata": {
      "needs_background": "light"
     },
     "output_type": "display_data"
    }
   ],
   "source": [
    "plt.bar(df['Số sao trên ShopeeFood'].value_counts().index, df['Số sao trên ShopeeFood'].value_counts().values, width = 0.5)\n",
    "plt.title('Số sao trên ShopeeFood')\n",
    "plt.show()"
   ]
  },
  {
   "cell_type": "code",
   "execution_count": 15,
   "id": "bb4bbabe",
   "metadata": {},
   "outputs": [
    {
     "data": {
      "image/png": "[encoded data removed]",
      "text/plain": [
       "<Figure size 432x288 with 1 Axes>"
      ]
     },
     "metadata": {
      "needs_background": "light"
     },
     "output_type": "display_data"
    }
   ],
   "source": [
    "f_star = df['Số sao trên Foody']\n",
    "f_star.replace([0, 10], np.nan, inplace = True)\n",
    "plt.bar(f_star.value_counts().index, f_star.value_counts().values, width = 0.1)\n",
    "plt.title('Số sao trên Foody')\n",
    "plt.show()"
   ]
  },
  {
   "cell_type": "code",
   "execution_count": 16,
   "id": "0e6ea88d",
   "metadata": {},
   "outputs": [
    {
     "data": {
      "image/png": "[encoded data removed]",
      "text/plain": [
       "<Figure size 432x288 with 1 Axes>"
      ]
     },
     "metadata": {
      "needs_background": "light"
     },
     "output_type": "display_data"
    }
   ],
   "source": [
    "#Số lượt đánh giá trên Foody\n",
    "f_rev = df['Số lượt đánh giá trên Foody']\n",
    "f_rev.replace(0, np.nan, inplace = True)\n",
    "plt.bar(f_rev.value_counts().index, f_rev.value_counts().values, width = 10)\n",
    "plt.title('Số lượt đánh giá trên Foody')\n",
    "plt.show()"
   ]
  },
  {
   "cell_type": "code",
   "execution_count": 17,
   "id": "0389df7f",
   "metadata": {},
   "outputs": [
    {
     "data": {
      "text/html": [
       "<div>\n",
       "<style scoped>\n",
       "    .dataframe tbody tr th:only-of-type {\n",
       "        vertical-align: middle;\n",
       "    }\n",
       "\n",
       "    .dataframe tbody tr th {\n",
       "        vertical-align: top;\n",
       "    }\n",
       "\n",
       "    .dataframe thead th {\n",
       "        text-align: right;\n",
       "    }\n",
       "</style>\n",
       "<table border=\"1\" class=\"dataframe\">\n",
       "  <thead>\n",
       "    <tr style=\"text-align: right;\">\n",
       "      <th></th>\n",
       "      <th>Food</th>\n",
       "      <th>Price</th>\n",
       "    </tr>\n",
       "  </thead>\n",
       "  <tbody>\n",
       "    <tr>\n",
       "      <th>0</th>\n",
       "      <td>Mì vàng nước</td>\n",
       "      <td>59,000</td>\n",
       "    </tr>\n",
       "    <tr>\n",
       "      <th>1</th>\n",
       "      <td>Đặc biệt nước</td>\n",
       "      <td>69,000</td>\n",
       "    </tr>\n",
       "    <tr>\n",
       "      <th>2</th>\n",
       "      <td>hủ tíu khô em bé.  (thịt bằm trứng cút)</td>\n",
       "      <td>30,000</td>\n",
       "    </tr>\n",
       "    <tr>\n",
       "      <th>3</th>\n",
       "      <td>Tô, muỗng đũa</td>\n",
       "      <td>1</td>\n",
       "    </tr>\n",
       "    <tr>\n",
       "      <th>4</th>\n",
       "      <td>Tô Em Bé Nước ( thịt bằm Trứng cút )</td>\n",
       "      <td>30,000</td>\n",
       "    </tr>\n",
       "    <tr>\n",
       "      <th>5</th>\n",
       "      <td>Cocacola</td>\n",
       "      <td>15,000</td>\n",
       "    </tr>\n",
       "    <tr>\n",
       "      <th>6</th>\n",
       "      <td>nước dâu ngâm nhà làm</td>\n",
       "      <td>25,000</td>\n",
       "    </tr>\n",
       "    <tr>\n",
       "      <th>7</th>\n",
       "      <td>7 Up lon</td>\n",
       "      <td>15,000</td>\n",
       "    </tr>\n",
       "    <tr>\n",
       "      <th>8</th>\n",
       "      <td>Nước suối</td>\n",
       "      <td>10,000</td>\n",
       "    </tr>\n",
       "    <tr>\n",
       "      <th>9</th>\n",
       "      <td>Bánh thêm khô</td>\n",
       "      <td>20,000</td>\n",
       "    </tr>\n",
       "    <tr>\n",
       "      <th>10</th>\n",
       "      <td>Bánh thêm nước</td>\n",
       "      <td>20,000</td>\n",
       "    </tr>\n",
       "  </tbody>\n",
       "</table>\n",
       "</div>"
      ],
      "text/plain": [
       "                                       Food   Price\n",
       "0                              Mì vàng nước  59,000\n",
       "1                             Đặc biệt nước  69,000\n",
       "2   hủ tíu khô em bé.  (thịt bằm trứng cút)  30,000\n",
       "3                             Tô, muỗng đũa       1\n",
       "4      Tô Em Bé Nước ( thịt bằm Trứng cút )  30,000\n",
       "5                                  Cocacola  15,000\n",
       "6                    nước dâu ngâm nhà làm   25,000\n",
       "7                                  7 Up lon  15,000\n",
       "8                                 Nước suối  10,000\n",
       "9                             Bánh thêm khô  20,000\n",
       "10                           Bánh thêm nước  20,000"
      ]
     },
     "execution_count": 17,
     "metadata": {},
     "output_type": "execute_result"
    }
   ],
   "source": [
    "df_m = pd.read_csv('./menuStore/Hủ Tiếu Nam Vang Hòa Phát - Nguyễn Thanh Sơn', sep=\",\")\n",
    "df_m[['Food','Price']]"
   ]
  },
  {
   "cell_type": "markdown",
   "id": "093913d9",
   "metadata": {},
   "source": [
    "# Tìm ra khu vực có lượng người mua hàng nhiều nhất nhưng có số lượng cửa hàng ít nhất"
   ]
  },
  {
   "cell_type": "markdown",
   "id": "d9dccc24",
   "metadata": {},
   "source": [
    "### Bước 1: Tạo một DataFrame chứa các cột \"Loại cửa hàng\", \"Tên cửa hàng\", \"Địa chỉ cửa hàng\",\"Số lượt đánh giá trên ShopeeFood\" cần thiết cho việc phân tích và tiền xử lí dữ liệu."
   ]
  },
  {
   "cell_type": "code",
   "execution_count": 18,
   "id": "3778353b",
   "metadata": {},
   "outputs": [
    {
     "data": {
      "text/html": [
       "<div>\n",
       "<style scoped>\n",
       "    .dataframe tbody tr th:only-of-type {\n",
       "        vertical-align: middle;\n",
       "    }\n",
       "\n",
       "    .dataframe tbody tr th {\n",
       "        vertical-align: top;\n",
       "    }\n",
       "\n",
       "    .dataframe thead th {\n",
       "        text-align: right;\n",
       "    }\n",
       "</style>\n",
       "<table border=\"1\" class=\"dataframe\">\n",
       "  <thead>\n",
       "    <tr style=\"text-align: right;\">\n",
       "      <th></th>\n",
       "      <th>Loại cửa hàng</th>\n",
       "      <th>Tên cửa hàng</th>\n",
       "      <th>Địa chỉ cửa hàng</th>\n",
       "      <th>Số lượt đánh giá trên ShopeeFood</th>\n",
       "    </tr>\n",
       "  </thead>\n",
       "  <tbody>\n",
       "    <tr>\n",
       "      <th>0</th>\n",
       "      <td>Quán ăn</td>\n",
       "      <td>Hủ Tiếu Nam Vang Hòa Phát - Nguyễn Thanh Sơn</td>\n",
       "      <td>36A Nguyễn Thanh Sơn, P. Thạnh Mỹ Lợi, Thủ Đức, TP. HCM</td>\n",
       "      <td>100+</td>\n",
       "    </tr>\n",
       "    <tr>\n",
       "      <th>1</th>\n",
       "      <td>Quán ăn</td>\n",
       "      <td>HỦ TIẾU NAM VANG NAM KIỆT - Hủ Tiếu Nam Vang - Nguyễn Thanh Sơn</td>\n",
       "      <td>38A Nguyễn Thanh Sơn, P. Thạnh Mỹ Lợi, Thủ Đức, TP. HCM</td>\n",
       "      <td>7</td>\n",
       "    </tr>\n",
       "    <tr>\n",
       "      <th>2</th>\n",
       "      <td>Quán ăn</td>\n",
       "      <td>Dose Coffee - Nguyễn Thanh Sơn</td>\n",
       "      <td>11 Nguyễn Thanh Sơn, P. Thạnh Mỹ Lợi, Thủ Đức, TP. HCM</td>\n",
       "      <td>10+</td>\n",
       "    </tr>\n",
       "    <tr>\n",
       "      <th>3</th>\n",
       "      <td>Café/Dessert</td>\n",
       "      <td>Phúc Long Đảo Kim Cương</td>\n",
       "      <td>Khu Thương Mại B2.2B, Tầng B2, Tháp Bora Bora, Đảo Kim Cương, Số 01 Đường 104-BTT, KP 3, Đường 104, P. Bình Trưng Tây, Thủ Đức, TP. HCM</td>\n",
       "      <td>100+</td>\n",
       "    </tr>\n",
       "    <tr>\n",
       "      <th>4</th>\n",
       "      <td>Quán ăn</td>\n",
       "      <td>Lẩu Bò Anh Ba - Đường Số 104</td>\n",
       "      <td>21 Đường Số 104, P. Thạnh Mỹ Lợi, Thủ Đức, TP. HCM</td>\n",
       "      <td>100+</td>\n",
       "    </tr>\n",
       "    <tr>\n",
       "      <th>...</th>\n",
       "      <td>...</td>\n",
       "      <td>...</td>\n",
       "      <td>...</td>\n",
       "      <td>...</td>\n",
       "    </tr>\n",
       "    <tr>\n",
       "      <th>14019</th>\n",
       "      <td>Café/Dessert</td>\n",
       "      <td>Hoa Lá Cafe</td>\n",
       "      <td>Nguyễn Chí Thanh, P. Hiệp An, Thị xã Thủ Dầu Một, Bình Dương</td>\n",
       "      <td>3</td>\n",
       "    </tr>\n",
       "    <tr>\n",
       "      <th>14020</th>\n",
       "      <td>Quán ăn</td>\n",
       "      <td>Cơm Gà Tam Kỳ - Diễm Thuý</td>\n",
       "      <td>190 Khu Dân Cư Hiệp Thành 3, P. Hiệp Thành, Thị xã Thủ Dầu Một, Bình Dương</td>\n",
       "      <td>100+</td>\n",
       "    </tr>\n",
       "    <tr>\n",
       "      <th>14021</th>\n",
       "      <td>Quán ăn</td>\n",
       "      <td>Cơm Gà Tam Kỳ - Lê Hồng Phong</td>\n",
       "      <td>436 Lê Hồng Phong, P. Phú Hòa, Thị xã Thủ Dầu Một, Bình Dương</td>\n",
       "      <td>50+</td>\n",
       "    </tr>\n",
       "    <tr>\n",
       "      <th>14022</th>\n",
       "      <td>Quán ăn</td>\n",
       "      <td>Cơm Gà Ta Bình An</td>\n",
       "      <td>2 Lê Thị Trung, P. Phú Lợi, Thị xã Thủ Dầu Một, Bình Dương</td>\n",
       "      <td>100+</td>\n",
       "    </tr>\n",
       "    <tr>\n",
       "      <th>14023</th>\n",
       "      <td>Giao cơm văn phòng</td>\n",
       "      <td>Hai Đức - Cơm - Đường D5 Khu Dân Cư K8</td>\n",
       "      <td>44 Khu Dân Cư K8, Đường D5, P. Hiệp Thành, Thị xã Thủ Dầu Một, Bình Dương</td>\n",
       "      <td>10+</td>\n",
       "    </tr>\n",
       "  </tbody>\n",
       "</table>\n",
       "<p>14024 rows × 4 columns</p>\n",
       "</div>"
      ],
      "text/plain": [
       "            Loại cửa hàng  \\\n",
       "0                 Quán ăn   \n",
       "1                 Quán ăn   \n",
       "2                 Quán ăn   \n",
       "3            Café/Dessert   \n",
       "4                 Quán ăn   \n",
       "...                   ...   \n",
       "14019        Café/Dessert   \n",
       "14020             Quán ăn   \n",
       "14021             Quán ăn   \n",
       "14022             Quán ăn   \n",
       "14023  Giao cơm văn phòng   \n",
       "\n",
       "                                                          Tên cửa hàng  \\\n",
       "0                         Hủ Tiếu Nam Vang Hòa Phát - Nguyễn Thanh Sơn   \n",
       "1      HỦ TIẾU NAM VANG NAM KIỆT - Hủ Tiếu Nam Vang - Nguyễn Thanh Sơn   \n",
       "2                                       Dose Coffee - Nguyễn Thanh Sơn   \n",
       "3                                              Phúc Long Đảo Kim Cương   \n",
       "4                                         Lẩu Bò Anh Ba - Đường Số 104   \n",
       "...                                                                ...   \n",
       "14019                                                      Hoa Lá Cafe   \n",
       "14020                                        Cơm Gà Tam Kỳ - Diễm Thuý   \n",
       "14021                                    Cơm Gà Tam Kỳ - Lê Hồng Phong   \n",
       "14022                                                Cơm Gà Ta Bình An   \n",
       "14023                           Hai Đức - Cơm - Đường D5 Khu Dân Cư K8   \n",
       "\n",
       "                                                                                                                              Địa chỉ cửa hàng  \\\n",
       "0                                                                                      36A Nguyễn Thanh Sơn, P. Thạnh Mỹ Lợi, Thủ Đức, TP. HCM   \n",
       "1                                                                                      38A Nguyễn Thanh Sơn, P. Thạnh Mỹ Lợi, Thủ Đức, TP. HCM   \n",
       "2                                                                                       11 Nguyễn Thanh Sơn, P. Thạnh Mỹ Lợi, Thủ Đức, TP. HCM   \n",
       "3      Khu Thương Mại B2.2B, Tầng B2, Tháp Bora Bora, Đảo Kim Cương, Số 01 Đường 104-BTT, KP 3, Đường 104, P. Bình Trưng Tây, Thủ Đức, TP. HCM   \n",
       "4                                                                                           21 Đường Số 104, P. Thạnh Mỹ Lợi, Thủ Đức, TP. HCM   \n",
       "...                                                                                                                                        ...   \n",
       "14019                                                                             Nguyễn Chí Thanh, P. Hiệp An, Thị xã Thủ Dầu Một, Bình Dương   \n",
       "14020                                                               190 Khu Dân Cư Hiệp Thành 3, P. Hiệp Thành, Thị xã Thủ Dầu Một, Bình Dương   \n",
       "14021                                                                            436 Lê Hồng Phong, P. Phú Hòa, Thị xã Thủ Dầu Một, Bình Dương   \n",
       "14022                                                                               2 Lê Thị Trung, P. Phú Lợi, Thị xã Thủ Dầu Một, Bình Dương   \n",
       "14023                                                                44 Khu Dân Cư K8, Đường D5, P. Hiệp Thành, Thị xã Thủ Dầu Một, Bình Dương   \n",
       "\n",
       "      Số lượt đánh giá trên ShopeeFood  \n",
       "0                                 100+  \n",
       "1                                    7  \n",
       "2                                  10+  \n",
       "3                                 100+  \n",
       "4                                 100+  \n",
       "...                                ...  \n",
       "14019                                3  \n",
       "14020                             100+  \n",
       "14021                              50+  \n",
       "14022                             100+  \n",
       "14023                              10+  \n",
       "\n",
       "[14024 rows x 4 columns]"
      ]
     },
     "execution_count": 18,
     "metadata": {},
     "output_type": "execute_result"
    }
   ],
   "source": [
    "df_vd1 = df[['Loại cửa hàng','Tên cửa hàng','Địa chỉ cửa hàng','Số lượt đánh giá trên ShopeeFood']].copy()\n",
    "df_vd1"
   ]
  },
  {
   "cell_type": "markdown",
   "id": "57a64b96",
   "metadata": {},
   "source": [
    "### Kiểm tra xem số lượt đánh giá trên shopee food có những giá trị nào"
   ]
  },
  {
   "cell_type": "code",
   "execution_count": 19,
   "id": "dc0d0744",
   "metadata": {},
   "outputs": [
    {
     "name": "stdout",
     "output_type": "stream",
     "text": [
      "['100+' '7' '10+' '500+' '2' '8' '1' '0' '999+' '50+' '4' '3' '6' '9' '5']\n"
     ]
    }
   ],
   "source": [
    "print(df_vd1['Số lượt đánh giá trên ShopeeFood'].unique())"
   ]
  },
  {
   "cell_type": "markdown",
   "id": "d3a65f8e",
   "metadata": {},
   "source": [
    "***Vì số lượt đánh giá có một vài giá trị không phải số cụ thể nên sẽ tiến hành thay thế những số đó bằng trung bình giữa các khoảng mà ta có mà ta có. Vì thay thế cho tất cả dữ liệu nên nhìn chung sẽ không ảnh hưởng tới sự tương quan các giá trị giữa các tỉnh thành***"
   ]
  },
  {
   "cell_type": "code",
   "execution_count": 20,
   "id": "6eda0600",
   "metadata": {},
   "outputs": [],
   "source": [
    "df_vd1['Số lượt đánh giá trên ShopeeFood'] = df_vd1['Số lượt đánh giá trên ShopeeFood'].apply(lambda x: '150' if x in ['100+'] else x)\n",
    "df_vd1['Số lượt đánh giá trên ShopeeFood'] = df_vd1['Số lượt đánh giá trên ShopeeFood'].apply(lambda x: '350' if x in ['200+'] else x)\n",
    "df_vd1['Số lượt đánh giá trên ShopeeFood'] = df_vd1['Số lượt đánh giá trên ShopeeFood'].apply(lambda x: '750' if x in ['500+'] else x)\n",
    "df_vd1['Số lượt đánh giá trên ShopeeFood'] = df_vd1['Số lượt đánh giá trên ShopeeFood'].apply(lambda x: '1000' if x in ['999+'] else x)\n",
    "df_vd1['Số lượt đánh giá trên ShopeeFood'] = df_vd1['Số lượt đánh giá trên ShopeeFood'].apply(lambda x: '30' if x in ['10+'] else x)\n",
    "df_vd1['Số lượt đánh giá trên ShopeeFood'] = df_vd1['Số lượt đánh giá trên ShopeeFood'].apply(lambda x: '75' if x in ['50+'] else x)\n",
    "df_vd1['Số lượt đánh giá trên ShopeeFood'] = df_vd1['Số lượt đánh giá trên ShopeeFood'].astype(int)"
   ]
  },
  {
   "cell_type": "markdown",
   "id": "48adbc49",
   "metadata": {},
   "source": [
    "### Bước 2: Tách tên các quận huyện và tên tỉnh từ địa chỉ của cửa hàng và tìm ra top tỉnh/thành phố có lượt đánh giá/ người mua đồ ăn nhiều nhất để hiểu hơn về khu vực chuẩn bị kinh doanh."
   ]
  },
  {
   "cell_type": "code",
   "execution_count": 21,
   "id": "2faee9d8",
   "metadata": {},
   "outputs": [],
   "source": [
    "Location_split = df_vd1[\"Địa chỉ cửa hàng\"].str.split(\",\", n = 10, expand = False)\n",
    "QUAN = [Location_split[i][-2] for i in range(len(Location_split))]\n",
    "TP = [Location_split[i][-1] for i in range(len(Location_split))]\n",
    "df_vd1['Tỉnh/TP'] = TP\n",
    "df_vd1['Quận/Huyện'] = QUAN\n",
    "df_vd1 = df_vd1.drop('Địa chỉ cửa hàng', axis=1)\n",
    "## Ta tiến hành tách các tên quận huyện và tên tỉnh/thành phố ra thành hai cột lấy giá trị từ địa chỉ của cửa hàng"
   ]
  },
  {
   "cell_type": "code",
   "execution_count": 22,
   "id": "7bf5b70a",
   "metadata": {},
   "outputs": [
    {
     "data": {
      "text/plain": [
       "<AxesSubplot:xlabel='Tỉnh/TP'>"
      ]
     },
     "execution_count": 22,
     "metadata": {},
     "output_type": "execute_result"
    },
    {
     "data": {
      "image/png": "[encoded data removed]",
      "text/plain": [
       "<Figure size 1080x504 with 1 Axes>"
      ]
     },
     "metadata": {
      "needs_background": "light"
     },
     "output_type": "display_data"
    }
   ],
   "source": [
    "df_vd1\n",
    "ratio_df = df_vd1.groupby('Tỉnh/TP')['Số lượt đánh giá trên ShopeeFood'].agg(['sum','count'])\n",
    "ratio_df['ratio'] = ratio_df['sum']/ratio_df['count']\n",
    "ratio_df = ratio_df.drop('sum', axis=1)\n",
    "ratio_df = ratio_df.drop('count', axis=1)\n",
    "ratio_df.plot.bar(rot=45, figsize=(15,7))"
   ]
  },
  {
   "cell_type": "markdown",
   "id": "6d07a16b",
   "metadata": {},
   "source": [
    "**Biểu đồ này là tỉ lệ giữa số lượng đánh giá/số lượng cửa hàng hiện có trong một khu vực. Tỷ lệ càng lớn thì thể hiện số cửa hàng bán chạy càng nhiều và cửa hàng mới mở hoặc ít được đánh giá càng ít**"
   ]
  },
  {
   "cell_type": "code",
   "execution_count": 23,
   "id": "a0bb1159",
   "metadata": {
    "scrolled": true
   },
   "outputs": [
    {
     "data": {
      "text/html": [
       "<div>\n",
       "<style scoped>\n",
       "    .dataframe tbody tr th:only-of-type {\n",
       "        vertical-align: middle;\n",
       "    }\n",
       "\n",
       "    .dataframe tbody tr th {\n",
       "        vertical-align: top;\n",
       "    }\n",
       "\n",
       "    .dataframe thead th {\n",
       "        text-align: right;\n",
       "    }\n",
       "</style>\n",
       "<table border=\"1\" class=\"dataframe\">\n",
       "  <thead>\n",
       "    <tr style=\"text-align: right;\">\n",
       "      <th></th>\n",
       "      <th>Số lượt đánh giá trên ShopeeFood</th>\n",
       "    </tr>\n",
       "    <tr>\n",
       "      <th>Tỉnh/TP</th>\n",
       "      <th></th>\n",
       "    </tr>\n",
       "  </thead>\n",
       "  <tbody>\n",
       "    <tr>\n",
       "      <th>Bình Dương</th>\n",
       "      <td>155303</td>\n",
       "    </tr>\n",
       "    <tr>\n",
       "      <th>Cần Thơ</th>\n",
       "      <td>201586</td>\n",
       "    </tr>\n",
       "    <tr>\n",
       "      <th>Huế</th>\n",
       "      <td>172662</td>\n",
       "    </tr>\n",
       "    <tr>\n",
       "      <th>Hà Nội</th>\n",
       "      <td>1334431</td>\n",
       "    </tr>\n",
       "    <tr>\n",
       "      <th>Hải Phòng</th>\n",
       "      <td>121556</td>\n",
       "    </tr>\n",
       "    <tr>\n",
       "      <th>Khánh Hoà</th>\n",
       "      <td>117387</td>\n",
       "    </tr>\n",
       "    <tr>\n",
       "      <th>Nghệ An</th>\n",
       "      <td>84745</td>\n",
       "    </tr>\n",
       "    <tr>\n",
       "      <th>TP. HCM</th>\n",
       "      <td>2461687</td>\n",
       "    </tr>\n",
       "    <tr>\n",
       "      <th>Vũng Tàu</th>\n",
       "      <td>119924</td>\n",
       "    </tr>\n",
       "    <tr>\n",
       "      <th>Đà Nẵng</th>\n",
       "      <td>383316</td>\n",
       "    </tr>\n",
       "    <tr>\n",
       "      <th>Đồng Nai</th>\n",
       "      <td>205072</td>\n",
       "    </tr>\n",
       "  </tbody>\n",
       "</table>\n",
       "</div>"
      ],
      "text/plain": [
       "             Số lượt đánh giá trên ShopeeFood\n",
       "Tỉnh/TP                                      \n",
       " Bình Dương                            155303\n",
       " Cần Thơ                               201586\n",
       " Huế                                   172662\n",
       " Hà Nội                               1334431\n",
       " Hải Phòng                             121556\n",
       " Khánh Hoà                             117387\n",
       " Nghệ An                                84745\n",
       " TP. HCM                              2461687\n",
       " Vũng Tàu                              119924\n",
       " Đà Nẵng                               383316\n",
       " Đồng Nai                              205072"
      ]
     },
     "execution_count": 23,
     "metadata": {},
     "output_type": "execute_result"
    }
   ],
   "source": [
    "TP_sum = df_vd1.groupby(by=['Tỉnh/TP'], dropna=True).sum()\n",
    "TP_sum"
   ]
  },
  {
   "cell_type": "code",
   "execution_count": 24,
   "id": "daa8bc37",
   "metadata": {},
   "outputs": [
    {
     "data": {
      "text/plain": [
       "<AxesSubplot:xlabel='Tỉnh/TP'>"
      ]
     },
     "execution_count": 24,
     "metadata": {},
     "output_type": "execute_result"
    },
    {
     "data": {
      "image/png": "[encoded data removed]",
      "text/plain": [
       "<Figure size 1080x504 with 1 Axes>"
      ]
     },
     "metadata": {
      "needs_background": "light"
     },
     "output_type": "display_data"
    }
   ],
   "source": [
    "TP_sum.plot.bar(rot=45, figsize=(15,7))"
   ]
  },
  {
   "cell_type": "markdown",
   "id": "db7bba46",
   "metadata": {},
   "source": [
    "**Không ngoài dự đoán thì 3 thành phố có mức mua thức ăn online nhiều nhất là TP Hồ Chí Minh, Hà Nội và Đà Nẵng. Ngoài ra Đồng Nai và Cần Thơ cũng là những thị trường tiềm năng để phát triển việc kinh doanh trong tương lai gần.**"
   ]
  },
  {
   "cell_type": "markdown",
   "id": "ce9ce06e",
   "metadata": {},
   "source": [
    "### Bước 3: Nhìn vào biểu đồ 2 biểu đồ ở bước 2 trên ta có thể chọn lựa thành phố Hồ Chí Minh là nơi có nhu cầu nhiều nhất và số lượng cửa hàng cũng như lượt đánh giá tương đối ổn đỉnh để tiến hành khảo sát các địa điểm nằm ở đó."
   ]
  },
  {
   "cell_type": "code",
   "execution_count": 25,
   "id": "d11328ba",
   "metadata": {},
   "outputs": [
    {
     "data": {
      "text/html": [
       "<div>\n",
       "<style scoped>\n",
       "    .dataframe tbody tr th:only-of-type {\n",
       "        vertical-align: middle;\n",
       "    }\n",
       "\n",
       "    .dataframe tbody tr th {\n",
       "        vertical-align: top;\n",
       "    }\n",
       "\n",
       "    .dataframe thead th {\n",
       "        text-align: right;\n",
       "    }\n",
       "</style>\n",
       "<table border=\"1\" class=\"dataframe\">\n",
       "  <thead>\n",
       "    <tr style=\"text-align: right;\">\n",
       "      <th></th>\n",
       "      <th>Loại cửa hàng</th>\n",
       "      <th>Tên cửa hàng</th>\n",
       "      <th>Số lượt đánh giá trên ShopeeFood</th>\n",
       "      <th>Tỉnh/TP</th>\n",
       "      <th>Quận/Huyện</th>\n",
       "    </tr>\n",
       "  </thead>\n",
       "  <tbody>\n",
       "    <tr>\n",
       "      <th>0</th>\n",
       "      <td>Quán ăn</td>\n",
       "      <td>Hủ Tiếu Nam Vang Hòa Phát - Nguyễn Thanh Sơn</td>\n",
       "      <td>150</td>\n",
       "      <td>TP. HCM</td>\n",
       "      <td>Thủ Đức</td>\n",
       "    </tr>\n",
       "    <tr>\n",
       "      <th>1</th>\n",
       "      <td>Quán ăn</td>\n",
       "      <td>HỦ TIẾU NAM VANG NAM KIỆT - Hủ Tiếu Nam Vang - Nguyễn Thanh Sơn</td>\n",
       "      <td>7</td>\n",
       "      <td>TP. HCM</td>\n",
       "      <td>Thủ Đức</td>\n",
       "    </tr>\n",
       "    <tr>\n",
       "      <th>2</th>\n",
       "      <td>Quán ăn</td>\n",
       "      <td>Dose Coffee - Nguyễn Thanh Sơn</td>\n",
       "      <td>30</td>\n",
       "      <td>TP. HCM</td>\n",
       "      <td>Thủ Đức</td>\n",
       "    </tr>\n",
       "    <tr>\n",
       "      <th>3</th>\n",
       "      <td>Café/Dessert</td>\n",
       "      <td>Phúc Long Đảo Kim Cương</td>\n",
       "      <td>150</td>\n",
       "      <td>TP. HCM</td>\n",
       "      <td>Thủ Đức</td>\n",
       "    </tr>\n",
       "    <tr>\n",
       "      <th>4</th>\n",
       "      <td>Quán ăn</td>\n",
       "      <td>Lẩu Bò Anh Ba - Đường Số 104</td>\n",
       "      <td>150</td>\n",
       "      <td>TP. HCM</td>\n",
       "      <td>Thủ Đức</td>\n",
       "    </tr>\n",
       "    <tr>\n",
       "      <th>...</th>\n",
       "      <td>...</td>\n",
       "      <td>...</td>\n",
       "      <td>...</td>\n",
       "      <td>...</td>\n",
       "      <td>...</td>\n",
       "    </tr>\n",
       "    <tr>\n",
       "      <th>6283</th>\n",
       "      <td>Quán ăn</td>\n",
       "      <td>Bò Lá Lốp Và Bò Nướng Mỡ Chài</td>\n",
       "      <td>30</td>\n",
       "      <td>TP. HCM</td>\n",
       "      <td>Nhà Bè</td>\n",
       "    </tr>\n",
       "    <tr>\n",
       "      <th>6284</th>\n",
       "      <td>Café/Dessert, Shop Online</td>\n",
       "      <td>ROBINA - Sinh Tố Và Nước Ép - Nguyễn Bình (không có menu)</td>\n",
       "      <td>7</td>\n",
       "      <td>TP. HCM</td>\n",
       "      <td>Nhà Bè</td>\n",
       "    </tr>\n",
       "    <tr>\n",
       "      <th>6285</th>\n",
       "      <td>Quán ăn</td>\n",
       "      <td>Thắm - Gỏi Gà Vịt Và Cháo</td>\n",
       "      <td>30</td>\n",
       "      <td>TP. HCM</td>\n",
       "      <td>Nhà Bè</td>\n",
       "    </tr>\n",
       "    <tr>\n",
       "      <th>6286</th>\n",
       "      <td>Quán ăn</td>\n",
       "      <td>Quán 287 - Hủ Tiếu Nam Vang</td>\n",
       "      <td>30</td>\n",
       "      <td>TP. HCM</td>\n",
       "      <td>Nhà Bè</td>\n",
       "    </tr>\n",
       "    <tr>\n",
       "      <th>6287</th>\n",
       "      <td>Ăn vặt/vỉa hè</td>\n",
       "      <td>KATI MILK TEA - Trà Sữa, Sinh Tố - Lê Văn Lương</td>\n",
       "      <td>6</td>\n",
       "      <td>TP. HCM</td>\n",
       "      <td>Nhà Bè</td>\n",
       "    </tr>\n",
       "  </tbody>\n",
       "</table>\n",
       "<p>6288 rows × 5 columns</p>\n",
       "</div>"
      ],
      "text/plain": [
       "                  Loại cửa hàng  \\\n",
       "0                       Quán ăn   \n",
       "1                       Quán ăn   \n",
       "2                       Quán ăn   \n",
       "3                  Café/Dessert   \n",
       "4                       Quán ăn   \n",
       "...                         ...   \n",
       "6283                    Quán ăn   \n",
       "6284  Café/Dessert, Shop Online   \n",
       "6285                    Quán ăn   \n",
       "6286                    Quán ăn   \n",
       "6287              Ăn vặt/vỉa hè   \n",
       "\n",
       "                                                         Tên cửa hàng  \\\n",
       "0                        Hủ Tiếu Nam Vang Hòa Phát - Nguyễn Thanh Sơn   \n",
       "1     HỦ TIẾU NAM VANG NAM KIỆT - Hủ Tiếu Nam Vang - Nguyễn Thanh Sơn   \n",
       "2                                      Dose Coffee - Nguyễn Thanh Sơn   \n",
       "3                                             Phúc Long Đảo Kim Cương   \n",
       "4                                        Lẩu Bò Anh Ba - Đường Số 104   \n",
       "...                                                               ...   \n",
       "6283                                    Bò Lá Lốp Và Bò Nướng Mỡ Chài   \n",
       "6284        ROBINA - Sinh Tố Và Nước Ép - Nguyễn Bình (không có menu)   \n",
       "6285                                        Thắm - Gỏi Gà Vịt Và Cháo   \n",
       "6286                                      Quán 287 - Hủ Tiếu Nam Vang   \n",
       "6287                  KATI MILK TEA - Trà Sữa, Sinh Tố - Lê Văn Lương   \n",
       "\n",
       "      Số lượt đánh giá trên ShopeeFood   Tỉnh/TP Quận/Huyện  \n",
       "0                                  150   TP. HCM    Thủ Đức  \n",
       "1                                    7   TP. HCM    Thủ Đức  \n",
       "2                                   30   TP. HCM    Thủ Đức  \n",
       "3                                  150   TP. HCM    Thủ Đức  \n",
       "4                                  150   TP. HCM    Thủ Đức  \n",
       "...                                ...       ...        ...  \n",
       "6283                                30   TP. HCM     Nhà Bè  \n",
       "6284                                 7   TP. HCM     Nhà Bè  \n",
       "6285                                30   TP. HCM     Nhà Bè  \n",
       "6286                                30   TP. HCM     Nhà Bè  \n",
       "6287                                 6   TP. HCM     Nhà Bè  \n",
       "\n",
       "[6288 rows x 5 columns]"
      ]
     },
     "execution_count": 25,
     "metadata": {},
     "output_type": "execute_result"
    }
   ],
   "source": [
    "City_df = df_vd1[df_vd1['Tỉnh/TP'] == \" TP. HCM\"]\n",
    "City_df"
   ]
  },
  {
   "cell_type": "code",
   "execution_count": 26,
   "id": "942fda23",
   "metadata": {
    "scrolled": true
   },
   "outputs": [
    {
     "data": {
      "text/html": [
       "<div>\n",
       "<style scoped>\n",
       "    .dataframe tbody tr th:only-of-type {\n",
       "        vertical-align: middle;\n",
       "    }\n",
       "\n",
       "    .dataframe tbody tr th {\n",
       "        vertical-align: top;\n",
       "    }\n",
       "\n",
       "    .dataframe thead th {\n",
       "        text-align: right;\n",
       "    }\n",
       "</style>\n",
       "<table border=\"1\" class=\"dataframe\">\n",
       "  <thead>\n",
       "    <tr style=\"text-align: right;\">\n",
       "      <th></th>\n",
       "      <th>Số lượt đánh giá trên ShopeeFood</th>\n",
       "    </tr>\n",
       "    <tr>\n",
       "      <th>Quận/Huyện</th>\n",
       "      <th></th>\n",
       "    </tr>\n",
       "  </thead>\n",
       "  <tbody>\n",
       "    <tr>\n",
       "      <th>Bình Thạnh</th>\n",
       "      <td>246547</td>\n",
       "    </tr>\n",
       "    <tr>\n",
       "      <th>Phú Nhuận</th>\n",
       "      <td>227450</td>\n",
       "    </tr>\n",
       "    <tr>\n",
       "      <th>Quận 1</th>\n",
       "      <td>199716</td>\n",
       "    </tr>\n",
       "    <tr>\n",
       "      <th>Quận 3</th>\n",
       "      <td>183226</td>\n",
       "    </tr>\n",
       "    <tr>\n",
       "      <th>Thủ Đức</th>\n",
       "      <td>171432</td>\n",
       "    </tr>\n",
       "    <tr>\n",
       "      <th>Tân Bình</th>\n",
       "      <td>167544</td>\n",
       "    </tr>\n",
       "  </tbody>\n",
       "</table>\n",
       "</div>"
      ],
      "text/plain": [
       "             Số lượt đánh giá trên ShopeeFood\n",
       "Quận/Huyện                                   \n",
       " Bình Thạnh                            246547\n",
       " Phú Nhuận                             227450\n",
       " Quận 1                                199716\n",
       " Quận 3                                183226\n",
       " Thủ Đức                               171432\n",
       " Tân Bình                              167544"
      ]
     },
     "execution_count": 26,
     "metadata": {},
     "output_type": "execute_result"
    }
   ],
   "source": [
    "Temp_df = City_df[['Quận/Huyện','Số lượt đánh giá trên ShopeeFood']]\n",
    "Temp_df = Temp_df.groupby(by=['Quận/Huyện'], dropna=True).sum()\n",
    "upper_qualtiles = np.percentile(Temp_df['Số lượt đánh giá trên ShopeeFood'], 75)\n",
    "Temp_df = Temp_df[Temp_df['Số lượt đánh giá trên ShopeeFood'] >= upper_qualtiles]\n",
    "Temp_df"
   ]
  },
  {
   "cell_type": "code",
   "execution_count": 27,
   "id": "2da66925",
   "metadata": {},
   "outputs": [
    {
     "data": {
      "text/plain": [
       "array([<AxesSubplot:ylabel='Số lượt đánh giá trên ShopeeFood'>],\n",
       "      dtype=object)"
      ]
     },
     "execution_count": 27,
     "metadata": {},
     "output_type": "execute_result"
    },
    {
     "data": {
      "image/png": "[encoded data removed]",
      "text/plain": [
       "<Figure size 648x1008 with 1 Axes>"
      ]
     },
     "metadata": {},
     "output_type": "display_data"
    }
   ],
   "source": [
    "Temp_df.plot.pie(subplots=True ,figsize=(9,14), legend = None, autopct='%1.0f%%')"
   ]
  },
  {
   "cell_type": "markdown",
   "id": "ab3c8338",
   "metadata": {},
   "source": [
    "**Sau khi lọc được ra các quận có số lượt người mua hàng nhiều nhất ta sẽ tiến hành lọc ra những quận có ít cửa hàng nhất trong các quận ở trên**"
   ]
  },
  {
   "cell_type": "code",
   "execution_count": 28,
   "id": "da032b53",
   "metadata": {},
   "outputs": [
    {
     "data": {
      "text/html": [
       "<div>\n",
       "<style scoped>\n",
       "    .dataframe tbody tr th:only-of-type {\n",
       "        vertical-align: middle;\n",
       "    }\n",
       "\n",
       "    .dataframe tbody tr th {\n",
       "        vertical-align: top;\n",
       "    }\n",
       "\n",
       "    .dataframe thead th {\n",
       "        text-align: right;\n",
       "    }\n",
       "</style>\n",
       "<table border=\"1\" class=\"dataframe\">\n",
       "  <thead>\n",
       "    <tr style=\"text-align: right;\">\n",
       "      <th></th>\n",
       "      <th>Tên cửa hàng</th>\n",
       "    </tr>\n",
       "    <tr>\n",
       "      <th>Quận/Huyện</th>\n",
       "      <th></th>\n",
       "    </tr>\n",
       "  </thead>\n",
       "  <tbody>\n",
       "    <tr>\n",
       "      <th>Quận 3</th>\n",
       "      <td>390</td>\n",
       "    </tr>\n",
       "    <tr>\n",
       "      <th>Tân Bình</th>\n",
       "      <td>432</td>\n",
       "    </tr>\n",
       "  </tbody>\n",
       "</table>\n",
       "</div>"
      ],
      "text/plain": [
       "            Tên cửa hàng\n",
       "Quận/Huyện              \n",
       " Quận 3              390\n",
       " Tân Bình            432"
      ]
     },
     "execution_count": 28,
     "metadata": {},
     "output_type": "execute_result"
    }
   ],
   "source": [
    "Temp2_df = City_df[(City_df['Quận/Huyện'] == ' Bình Thạnh') | (City_df['Quận/Huyện'] == ' Phú Nhuận') | (City_df['Quận/Huyện'] == ' Quận 3') | (City_df['Quận/Huyện'] == ' Thủ Đức') | (City_df['Quận/Huyện'] == ' Tân Bình') | (City_df['Quận/Huyện'] == ' Quận 1')]\n",
    "Temp2_df = Temp2_df.drop(['Tỉnh/TP','Loại cửa hàng','Số lượt đánh giá trên ShopeeFood'], axis=1)\n",
    "Temp2_df = Temp2_df.groupby(by=['Quận/Huyện'], dropna=True).count()\n",
    "lower_qualtiles = np.percentile(Temp2_df['Tên cửa hàng'], 25)\n",
    "Temp2_df = Temp2_df[Temp2_df['Tên cửa hàng'] <= lower_qualtiles]\n",
    "Temp2_df"
   ]
  },
  {
   "cell_type": "code",
   "execution_count": 29,
   "id": "f8a3a865",
   "metadata": {},
   "outputs": [
    {
     "data": {
      "text/plain": [
       "array([<AxesSubplot:ylabel='Tên cửa hàng'>], dtype=object)"
      ]
     },
     "execution_count": 29,
     "metadata": {},
     "output_type": "execute_result"
    },
    {
     "data": {
      "image/png": "[encoded data removed]",
      "text/plain": [
       "<Figure size 432x648 with 1 Axes>"
      ]
     },
     "metadata": {},
     "output_type": "display_data"
    }
   ],
   "source": [
    "Temp2_df.plot.pie(subplots=True ,figsize=(6,9),autopct='%1.0f%%')"
   ]
  },
  {
   "cell_type": "markdown",
   "id": "d84b29c5",
   "metadata": {},
   "source": [
    "### Vậy với ta có thể chọn 1 trong hai quận Tân Bình hoặc Quận 3 để mở cửa hàng thì sẽ có tiềm năng khá lớn."
   ]
  }
 ],
 "metadata": {
  "kernelspec": {
   "display_name": "Python 3 (ipykernel)",
   "language": "python",
   "name": "python3"
  },
  "language_info": {
   "codemirror_mode": {
    "name": "ipython",
    "version": 3
   },
   "file_extension": ".py",
   "mimetype": "text/x-python",
   "name": "python",
   "nbconvert_exporter": "python",
   "pygments_lexer": "ipython3",
   "version": "3.8.8"
  }
 },
 "nbformat": 4,
 "nbformat_minor": 5
}
