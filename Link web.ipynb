{
 "cells": [
  {
   "cell_type": "code",
   "execution_count": 1,
   "id": "5c7e5e0e",
   "metadata": {},
   "outputs": [],
   "source": [
    "from bs4 import BeautifulSoup\n",
    "import time\n",
    "from selenium import webdriver\n",
    "from selenium.webdriver.common.action_chains import ActionChains\n",
    "from webdriver_manager.chrome import ChromeDriverManager\n",
    "import os.path"
   ]
  },
  {
   "cell_type": "code",
   "execution_count": 2,
   "id": "f9ebf977",
   "metadata": {},
   "outputs": [
    {
     "name": "stderr",
     "output_type": "stream",
     "text": [
      "C:\\Users\\Long\\AppData\\Local\\Temp\\ipykernel_15820\\3175946432.py:2: DeprecationWarning: executable_path has been deprecated, please pass in a Service object\n",
      "  driver = webdriver.Chrome(ChromeDriverManager().install())\n"
     ]
    }
   ],
   "source": [
    "#Khởi tạo webdriver chrome cho selenium\n",
    "driver = webdriver.Chrome(ChromeDriverManager().install())"
   ]
  },
  {
   "cell_type": "code",
   "execution_count": 3,
   "id": "f2655c37",
   "metadata": {},
   "outputs": [],
   "source": [
    "#Lấy những url từ file đã được thu thập\n",
    "def take_url_from_file(file_name):\n",
    "    list_url = []\n",
    "    with open(file_name, \"r\", encoding='utf-8') as f:\n",
    "        for line in f:\n",
    "            url = line.strip()\n",
    "            list_url.append(url)\n",
    "    return list_url"
   ]
  },
  {
   "cell_type": "code",
   "execution_count": 4,
   "id": "af6d28a7",
   "metadata": {},
   "outputs": [],
   "source": [
    "#Lấy số trang của mục cần thu thập\n",
    "def take_number_page():\n",
    "    element = driver.find_element('class name','result')\n",
    "    page = element.get_attribute('innerHTML')\n",
    "    result = page.strip(' Kết quả')\n",
    "    num = int(int(result)/30)\n",
    "    return num"
   ]
  },
  {
   "cell_type": "code",
   "execution_count": 5,
   "id": "909b208f",
   "metadata": {},
   "outputs": [],
   "source": [
    "#Lấy danh sách url\n",
    "def take_list_url(list_url_shop):\n",
    "    url_plus = 'https://shopeefood.vn'\n",
    "    element = driver.find_element('class name','list-restaurant')\n",
    "    list_restaurant = element.get_attribute('innerHTML')\n",
    "    parse_text = BeautifulSoup(list_restaurant, 'html.parser')\n",
    "    list_restaurant = parse_text.find_all('a',{'class':'item-content'},href = True)\n",
    "    for j in range(len(list_restaurant)):\n",
    "        temp = list_restaurant[j]['href']\n",
    "        url_shop = url_plus + temp\n",
    "        list_url_shop.append(url_shop)"
   ]
  },
  {
   "cell_type": "code",
   "execution_count": 6,
   "id": "422a47b8",
   "metadata": {},
   "outputs": [],
   "source": [
    "#Ghi vào file url\n",
    "def write_list_url_to_file(file_name, url):\n",
    "    with open(file_name, \"a\", encoding='utf-8') as f:\n",
    "        for url in list_url_shop:\n",
    "            f.write(f'{url}\\n')"
   ]
  },
  {
   "cell_type": "code",
   "execution_count": 7,
   "id": "93132984",
   "metadata": {},
   "outputs": [],
   "source": [
    "#Di chuyển con trỏ chuột để chuyển trang\n",
    "def move_pointer_and_click(action):\n",
    "    element = driver.find_element('class name','undefined')\n",
    "    element.get_attribute('innerHTML')\n",
    "    action.move_to_element_with_offset(element, 30, 10).click().perform()\n",
    "    time.sleep(3)"
   ]
  },
  {
   "cell_type": "code",
   "execution_count": 8,
   "id": "60c7ca84",
   "metadata": {},
   "outputs": [],
   "source": [
    "#Thực thi công việc crawler\n",
    "list_url = take_url_from_file('./linkWeb/list_url_web.txt')"
   ]
  },
  {
   "cell_type": "code",
   "execution_count": 9,
   "id": "a9b18214",
   "metadata": {},
   "outputs": [],
   "source": [
    "list_url_shop = []\n",
    "for url in list_url:\n",
    "    driver.get(url)\n",
    "    action = ActionChains(driver)\n",
    "    time.sleep(3)\n",
    "    for num_page in range(take_number_page()):\n",
    "        take_list_url(list_url_shop)\n",
    "        move_pointer_and_click(action)"
   ]
  },
  {
   "cell_type": "code",
   "execution_count": 10,
   "id": "bbc10eac",
   "metadata": {},
   "outputs": [],
   "source": [
    "#Xử lý những shop bị trùng\n",
    "list_url_shop = list(dict.fromkeys(list_url_shop))"
   ]
  },
  {
   "cell_type": "code",
   "execution_count": 11,
   "id": "9fae9f6a",
   "metadata": {},
   "outputs": [],
   "source": [
    "write_list_url_to_file('./linkWeb/list_url_shop.txt',list_url_shop)"
   ]
  },
  {
   "cell_type": "code",
   "execution_count": null,
   "id": "29d0188f",
   "metadata": {},
   "outputs": [],
   "source": []
  }
 ],
 "metadata": {
  "kernelspec": {
   "display_name": "Python 3 (ipykernel)",
   "language": "python",
   "name": "python3"
  },
  "language_info": {
   "codemirror_mode": {
    "name": "ipython",
    "version": 3
   },
   "file_extension": ".py",
   "mimetype": "text/x-python",
   "name": "python",
   "nbconvert_exporter": "python",
   "pygments_lexer": "ipython3",
   "version": "3.10.4"
  }
 },
 "nbformat": 4,
 "nbformat_minor": 5
}
